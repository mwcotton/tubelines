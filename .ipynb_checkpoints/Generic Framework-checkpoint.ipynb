{
 "cells": [
  {
   "cell_type": "code",
   "execution_count": 5,
   "metadata": {},
   "outputs": [],
   "source": [
    "import numpy as np\n",
    "import matplotlib.pyplot as plt\n",
    "import matplotlib as mlp\n",
    "import pandas as pd\n",
    "import networkx as nx\n",
    "import scipy as sp\n",
    "\n",
    "#see https://markdunne.github.io/2016/04/10/The-London-Tube-as-a-Graph/"
   ]
  },
  {
   "cell_type": "code",
   "execution_count": 3,
   "metadata": {},
   "outputs": [],
   "source": [
    "loc = 'datasets'\n",
    "\n",
    "lines       = pd.read_csv('{}/london.lines.csv'.format(loc), index_col=0)\n",
    "stations    = pd.read_csv('{}/london.stations.csv'.format(loc), index_col=0)\n",
    "connections = pd.read_csv('{}/london.connections.csv'.format(loc))"
   ]
  },
  {
   "cell_type": "code",
   "execution_count": 4,
   "metadata": {},
   "outputs": [
    {
     "name": "stderr",
     "output_type": "stream",
     "text": [
      "/anaconda3/lib/python3.7/site-packages/ipykernel_launcher.py:12: DeprecationWarning: \n",
      ".ix is deprecated. Please use\n",
      ".loc for label based indexing or\n",
      ".iloc for positional indexing\n",
      "\n",
      "See the documentation here:\n",
      "http://pandas.pydata.org/pandas-docs/stable/indexing.html#ix-indexer-is-deprecated\n",
      "  if sys.path[0] == '':\n",
      "/anaconda3/lib/python3.7/site-packages/ipykernel_launcher.py:13: DeprecationWarning: \n",
      ".ix is deprecated. Please use\n",
      ".loc for label based indexing or\n",
      ".iloc for positional indexing\n",
      "\n",
      "See the documentation here:\n",
      "http://pandas.pydata.org/pandas-docs/stable/indexing.html#ix-indexer-is-deprecated\n",
      "  del sys.path[0]\n"
     ]
    }
   ],
   "source": [
    "#make a simple graph for each line\n",
    "\n",
    "line_graphs = {}\n",
    "\n",
    "for line_no in lines.index.values:\n",
    "    \n",
    "    current_line = connections.loc[connections['line'] == line_no]\n",
    "\n",
    "    line_graphs[lines.loc[line_no]['name']] = nx.Graph()\n",
    "\n",
    "    for connection_id, connection in current_line.iterrows():\n",
    "        station1_name = stations.ix[connection['station1']]['name']\n",
    "        station2_name = stations.ix[connection['station2']]['name']\n",
    "        line_graphs[lines.loc[line_no]['name']].add_edge(station1_name, station2_name, time = connection['time'])"
   ]
  },
  {
   "cell_type": "code",
   "execution_count": 5,
   "metadata": {},
   "outputs": [],
   "source": [
    "#add all the lines to make the full network multi-graph\n",
    "\n",
    "full_map = nx.MultiGraph()\n",
    "\n",
    "for current_line in line_graphs.values():\n",
    "    full_map.add_edges_from(current_line.edges)"
   ]
  },
  {
   "cell_type": "code",
   "execution_count": 19,
   "metadata": {
    "scrolled": true
   },
   "outputs": [
    {
     "data": {
      "text/plain": [
       "(NodeView(('Baker Street', 'Marylebone', \"Regent's Park\", 'Edgware Road (B)', 'Oxford Circus', 'Charing Cross', 'Embankment', 'Picadilly Circus', 'Waterloo', 'Paddington', 'Warwick Avenue', 'Elephant & Castle', 'Lambeth North', 'Harlesden', 'Stonebridge Park', 'Willesden Junction', 'Wembley Central', 'Kensal Green', 'Harrow & Wealdston', 'Kenton', 'South Kenton', \"Queen's Park\", 'Kilburn Park', 'North Wembley', 'Maida Vale', 'Aldgate', 'Liverpool Street', 'Tower Hill', 'Moorgate', 'Monument', 'Edgware Road (C)', 'Great Portland Street', 'Euston Square', 'Barbican', 'Farringdon', \"King's Cross St. Pancras\", 'Bayswater', 'Notting Hill Gate', 'High Street Kensington', 'Blackfriars', 'Mansion House', 'Temple', 'Cannon Street', 'Westminster', \"St. James's Park\", 'Gloucester Road', 'South Kensington', 'Sloane Square', 'Victoria', 'Aldgate East', 'Whitechapel', 'Stepney Green', 'Barking', 'East Ham', 'Upton Park', 'Bow Road', 'Bromley-By-Bow', 'Mile End', 'West Ham', 'Plaistow', 'Royal Oak', 'Goldhawk Road', 'Hammersmith', \"Shepherd's Bush (H)\", 'Latimer Road', 'Ladbroke Grove', 'Westbourne Park', 'Bond Street', \"St. John's Wood\", 'Green Park', 'Swiss Cottage', 'Bermondsey', 'Canada Water', 'London Bridge', 'Canary Wharf', 'Southwark', 'North Greenwich', 'Canning Town', 'Stratford', 'Canons Park', 'Queensbury', 'Stanmore', 'Kingsbury', 'Dollis Hill', 'Neasden', 'Willesden Green', 'Wembley Park', 'Kilburn', 'Finchley Road', 'West Hampstead', 'Blackhorse Road', 'Tottenham Hale', 'Walthamstow Central', 'Seven Sisters', 'Brixton', 'Stockwell', 'Vauxhall', 'Euston', 'Warren Street', 'Highbury & Islington', 'Finsbury Park', 'Pimlico', 'Bank', \"St. Paul's\", 'Bethnal Green', 'Chancery Lane', 'Barkingside', 'Fairlop', 'Newbury Park', 'Hainault', 'Gants Hill', 'Marble Arch', 'Lancaster Gate', 'Tottenham Court Road', 'Buckhurst Hill', 'Loughton', 'Woodford', 'Debden', 'Roding Valley', 'South Woodford', 'Holborn', 'Chigwell', 'Grange Hill', 'Theydon Bois', 'Epping', 'Ealing Broadway', 'West Acton', 'North Acton', 'East Acton', 'White City', 'Hanger Lane', \"Shepherd's Bush (C)\", 'Redbridge', 'Wanstead', 'Greenford', 'Northolt', 'Perivale', 'South Ruislip', 'Holland Park', 'Queensway', 'Leyton', 'Leytonstone', 'Snaresbrook', 'Ruislip Gardens', 'West Ruislip', 'Upney', 'Becontree', 'Barons Court', 'West Kensington', 'Ravenscourt Park', \"Earl's Court\", 'Dagenham Heathway', 'Dagenham East', 'Chiswick Park', 'Acton Town', 'Turnham Green', 'Ealing Common', 'Gunnersbury', 'Stamford Brook', 'Elm Park', 'Hornchurch', 'Kensington (Olympia)', 'West Brompton', 'Fulham Broadway', 'East Putney', 'Putney Bridge', 'Southfields', 'Parsons Green', 'Wimbledon Park', 'Upminster Bridge', 'Kew Gardens', 'Richmond', 'Upminster', 'Wimbledon', 'Rotherhithe', 'Surrey Quays', 'Wapping', 'New Cross', 'New Cross Gate', 'Shadwell', 'Shoreditch', 'Amersham', 'Chalfont & Latimer', 'Chesham', 'Chorleywood', 'Rickmansworth', 'Moor Park', 'Croxley', 'Watford', 'Northwood', 'Eastcote', 'Rayners Lane', 'Ruislip Manor', 'West Harrow', 'Ruislip', 'Preston Road', 'Harrow-on-the-Hill', 'Northwick Park', 'North Harrow', 'Pinner', 'Hillingdon', 'Ickenham', 'Uxbridge', 'Northwood Hills', 'Angel', 'Old Street', 'Archway', 'Highgate', 'Tufnell Park', 'East Finchley', 'Kentish Town', 'Balham', 'Clapham South', 'Tooting Bec', 'Clapham Common', 'Tooting Broadway', 'Borough', 'Belsize Park', 'Chalk Farm', 'Hampstead', 'Camden Town', 'Golders Green', 'Kennington', 'Brent Cross', 'Hendon Central', 'Colindale', 'Burnt Oak', 'Edgware', 'Mornington Crescent', 'Leicester Square', 'Clapham North', 'Oval', 'Colliers Wood', 'South Wimbledon', 'Morden', 'Finchley Central', 'Mill Hill East', 'West Finchley', 'Goodge Street', 'Woodside Park', 'High Barnet', 'Totteridge & Whetstone', 'South Ealing', 'North Ealing', 'Northfields', 'Alperton', 'Park Royal', 'Sudbury Town', 'Sudbury Hill', 'Arnos Grove', 'Bounds Green', 'Southgate', 'Wood Green', 'Oakwood', 'Arsenal', 'Holloway Road', 'Manor House', 'Caledonian Road', 'Boston Manor', 'Osterley', 'Hounslow East', 'Turnpike Lane', 'Russell Square', 'Cockfosters', 'Covent Garden', 'South Harrow', 'Knightsbridge', 'Hyde Park Corner', 'Hatton Cross', 'Heathrow Terminals 1, 2 & 3', 'Heathrow Terminal 4', 'Hounslow West', 'Hounslow Central', 'All Saints', 'Devons Road', 'Poplar', 'Bow Church', 'Blackwall', 'Westferry', 'West India Quay', 'Limehouse', 'Tower Gateway', 'Beckton', 'Gallions Reach', 'Cyprus', 'Beckton Park', 'Royal Albert', 'Prince Regent', 'East India', 'Pudding Mill Lane', 'Heron Quays', 'South Quay', 'Royal Victoria', 'Custom House', 'Crossharbour & London Arena', 'Mudchute', 'Island Gardens', 'Cutty Sark', 'Greenwich', 'Deptford Bridge', 'Elverson Road', 'Lewisham')),\n",
       " NodeView(('Baker Street', 'Marylebone', \"Regent's Park\", 'Charing Cross', 'Embankment', 'Picadilly Circus', 'Edgware Road (B)', 'Paddington', 'Elephant & Castle', 'Lambeth North', 'Waterloo', 'Harlesden', 'Stonebridge Park', 'Willesden Junction', 'Harrow & Wealdston', 'Kenton', 'Kensal Green', \"Queen's Park\", 'South Kenton', 'Kilburn Park', 'Maida Vale', 'Warwick Avenue', 'North Wembley', 'Wembley Central', 'Oxford Circus')))"
      ]
     },
     "execution_count": 19,
     "metadata": {},
     "output_type": "execute_result"
    }
   ],
   "source": [
    "full_graph = full_map\n",
    "structure = line_graphs['Bakerloo Line']\n",
    "\n",
    "full_graph.nodes, structure.nodes"
   ]
  },
  {
   "cell_type": "code",
   "execution_count": 36,
   "metadata": {},
   "outputs": [],
   "source": [
    "class StructGraph: #class to describe graphs with sub-strcutres, e.g. lines.\n",
    "    def __init__(self, full_graph, structure):\n",
    "        self.full = full_graph\n",
    "        self.structure = structure\n",
    "        self.big_struc = nx.Graph() #make the strcuture graph include all nodes from the full graph\n",
    "        self.big_struc.add_nodes_from(full_graph)\n",
    "        self.big_struc.add_edges_from(structure)\n",
    "        \n",
    "        self.stoc_mat = None\n",
    "        self.adj_mat = None\n",
    "        \n",
    "        self.struc_sink = None\n",
    "\n",
    "    def get_adj_mat(self):\n",
    "        if self.adj_mat == None:\n",
    "            self.adj_mat = nx.convert_matrix.to_numpy_matrix(self.full_graph)\n",
    "        return self.adj_mat\n",
    "        \n",
    "    def get_stoc_mat(self):\n",
    "        if self.stoc_mat == None:\n",
    "            adj_mat = get_adj_mat(self)\n",
    "            self.stoc_mat = adj_mat/np.sum(adj_mat, axis=0)\n",
    "        return self.stoc_mat\n",
    "        \n",
    "    def get_struc_sink(self):\n",
    "        if self.struc_sink == None:\n",
    "            struc_adj_mat = nx.convert_matrix.to_numpy_matrix(struc_adj_mat)\n",
    "            row = np.sum(struc_adj_mat, axis=1)\n",
    "            self.struc_sink = np.logical_not((row.astype(bool))).astype(int)\n",
    "        return self.struc_sink\n",
    "    \n",
    "    def return_times(self, initial, max_iter=100):\n",
    "        step_mat = get_stoch_mat(self)\n",
    "        sink = get_struc_sink(self)\n",
    "        \n",
    "        state = initial\n",
    "        \n",
    "        remaining_p = []\n",
    "        remaining_p.append(np.sum(state))\n",
    "\n",
    "        for i in range(max_iter):\n",
    "            state = np.dot(step_mat, state)\n",
    "            state = np.dot(sink, state)\n",
    "            remaining_p.append(np.sum(state))\n",
    "            \n",
    "        return np.array(remaining_p)"
   ]
  },
  {
   "cell_type": "code",
   "execution_count": 152,
   "metadata": {},
   "outputs": [],
   "source": [
    "#find the diffusion from the lines, using transfer matrix, initial population"
   ]
  },
  {
   "cell_type": "code",
   "execution_count": null,
   "metadata": {},
   "outputs": [],
   "source": [
    "#find the return times to the line, using intial populations andd transfer matrices - modified to remove walkers\n",
    "# i.e. set the components of the transfer matrix on the line to zero and they will act as sink, measure the proportion lost each interation."
   ]
  },
  {
   "cell_type": "code",
   "execution_count": 6,
   "metadata": {},
   "outputs": [],
   "source": [
    "G = nx.Graph()\n",
    "G.add_nodes_from(['A', 'B'])\n",
    "G.add_edges_from([('D', 'E'), ('A', 'E')])\n",
    "\n",
    "\n",
    "G_big = nx.Graph()\n",
    "G_big.add_nodes_from(['A', 'B', 'C', 'D', 'E', 'F'])\n",
    "G_big.add_edges_from([('D', 'E'), ('A', 'E'),  ('F', 'C')])"
   ]
  },
  {
   "cell_type": "code",
   "execution_count": 7,
   "metadata": {},
   "outputs": [
    {
     "data": {
      "text/plain": [
       "<matplotlib.lines.Line2D at 0xa25922c88>"
      ]
     },
     "execution_count": 7,
     "metadata": {},
     "output_type": "execute_result"
    },
    {
     "data": {
      "image/png": "[encoded data removed]",
      "text/plain": [
       "<Figure size 432x288 with 1 Axes>"
      ]
     },
     "metadata": {
      "needs_background": "light"
     },
     "output_type": "display_data"
    }
   ],
   "source": [
    "plt.spy(nx.adjacency_matrix(G))"
   ]
  },
  {
   "cell_type": "code",
   "execution_count": 8,
   "metadata": {},
   "outputs": [
    {
     "data": {
      "text/plain": [
       "<matplotlib.lines.Line2D at 0xa25a04f60>"
      ]
     },
     "execution_count": 8,
     "metadata": {},
     "output_type": "execute_result"
    },
    {
     "data": {
      "image/png": "[encoded data removed]",
      "text/plain": [
       "<Figure size 432x288 with 1 Axes>"
      ]
     },
     "metadata": {
      "needs_background": "light"
     },
     "output_type": "display_data"
    }
   ],
   "source": [
    "plt.spy(nx.adjacency_matrix(G_big))"
   ]
  },
  {
   "cell_type": "code",
   "execution_count": 9,
   "metadata": {},
   "outputs": [
    {
     "data": {
      "text/plain": [
       "<matplotlib.lines.Line2D at 0xa25a6ba58>"
      ]
     },
     "execution_count": 9,
     "metadata": {},
     "output_type": "execute_result"
    },
    {
     "data": {
      "image/png": "[encoded data removed]",
      "text/plain": [
       "<Figure size 432x288 with 1 Axes>"
      ]
     },
     "metadata": {
      "needs_background": "light"
     },
     "output_type": "display_data"
    }
   ],
   "source": [
    "G_test = nx.Graph()\n",
    "G_test.add_nodes_from(G_big)\n",
    "G_test.add_edges_from(G.edges)\n",
    "plt.spy(nx.adjacency_matrix(G_test))"
   ]
  },
  {
   "cell_type": "code",
   "execution_count": 33,
   "metadata": {},
   "outputs": [
    {
     "data": {
      "text/plain": [
       "(matrix([[0],\n",
       "         [1],\n",
       "         [1],\n",
       "         [0],\n",
       "         [0],\n",
       "         [1]]), matrix([[0., 0., 0., 0., 2., 0.],\n",
       "         [0., 0., 0., 0., 0., 0.],\n",
       "         [0., 0., 0., 0., 0., 0.],\n",
       "         [0., 0., 0., 0., 1., 0.],\n",
       "         [1., 0., 0., 1., 0., 0.],\n",
       "         [0., 0., 0., 0., 0., 0.]]))"
      ]
     },
     "execution_count": 33,
     "metadata": {},
     "output_type": "execute_result"
    }
   ],
   "source": [
    "adj_mat_test = nx.convert_matrix.to_numpy_matrix(G_test)\n",
    "adj_mat_test[0, 4] += 1\n",
    "row = np.sum(adj_mat_test, axis=1)\n",
    "sink = np.logical_not((row.astype(bool))).astype(int)\n",
    "sink, adj_mat_test"
   ]
  },
  {
   "cell_type": "code",
   "execution_count": 32,
   "metadata": {},
   "outputs": [
    {
     "data": {
      "text/plain": [
       "matrix([[0],\n",
       "        [1],\n",
       "        [1],\n",
       "        [0],\n",
       "        [0],\n",
       "        [1]])"
      ]
     },
     "execution_count": 32,
     "metadata": {},
     "output_type": "execute_result"
    }
   ],
   "source": [
    "row = np.sum(adj_mat_test, axis=1)\n",
    "sink = np.logical_not((row.astype(bool))).astype(int)\n",
    "sink"
   ]
  },
  {
   "cell_type": "code",
   "execution_count": 44,
   "metadata": {},
   "outputs": [
    {
     "data": {
      "text/plain": [
       "array([6., 4., 6.])"
      ]
     },
     "execution_count": 44,
     "metadata": {},
     "output_type": "execute_result"
    }
   ],
   "source": [
    "np.dot(b, a)"
   ]
  },
  {
   "cell_type": "code",
   "execution_count": 50,
   "metadata": {},
   "outputs": [
    {
     "data": {
      "text/plain": [
       "<matplotlib.lines.Line2D at 0xa191017f0>"
      ]
     },
     "execution_count": 50,
     "metadata": {},
     "output_type": "execute_result"
    },
    {
     "data": {
      "image/png": "[encoded data removed]",
      "text/plain": [
       "<Figure size 432x288 with 1 Axes>"
      ]
     },
     "metadata": {
      "needs_background": "light"
     },
     "output_type": "display_data"
    }
   ],
   "source": [
    "plt.spy(nx.adj_matrix(G_big))"
   ]
  },
  {
   "cell_type": "code",
   "execution_count": 68,
   "metadata": {},
   "outputs": [
    {
     "data": {
      "text/plain": [
       "(matrix([[0.        , 0.66666667, 0.33333333, 0.        ],\n",
       "         [0.66666667, 0.        , 0.33333333, 0.        ],\n",
       "         [0.33333333, 0.33333333, 0.        , 1.        ],\n",
       "         [0.        , 0.        , 0.33333333, 0.        ]]),\n",
       " matrix([[1.        ],\n",
       "         [1.        ],\n",
       "         [1.66666667],\n",
       "         [0.33333333]]))"
      ]
     },
     "execution_count": 68,
     "metadata": {},
     "output_type": "execute_result"
    }
   ],
   "source": [
    "test = nx.MultiGraph()\n",
    "test.add_nodes_from(['A', 'B', 'C', 'D'])\n",
    "test.add_edges_from([('A', 'B'), ('A', 'B'), ('A', 'C'), ('B', 'C'), ('D', 'C')])\n",
    "\n",
    "test\n",
    "\n",
    "adj_mat = nx.convert_matrix.to_numpy_matrix(test)\n",
    "stoch_mat = adj_mat/np.sum(adj_mat, axis=0)\n",
    "stoch_mat, np.sum(stoch_mat, axis=1)"
   ]
  },
  {
   "cell_type": "code",
   "execution_count": 69,
   "metadata": {},
   "outputs": [
    {
     "data": {
      "text/plain": [
       "matrix([[0.        , 0.66666667, 0.33333333, 0.        ],\n",
       "        [0.66666667, 0.        , 0.33333333, 0.        ],\n",
       "        [0.33333333, 0.33333333, 0.        , 1.        ],\n",
       "        [0.        , 0.        , 0.33333333, 0.        ]])"
      ]
     },
     "execution_count": 69,
     "metadata": {},
     "output_type": "execute_result"
    }
   ],
   "source": [
    "stoch_mat"
   ]
  },
  {
   "cell_type": "code",
   "execution_count": 70,
   "metadata": {},
   "outputs": [
    {
     "name": "stdout",
     "output_type": "stream",
     "text": [
      "[[0]\n",
      " [0]\n",
      " [0]\n",
      " [1]]\n",
      "[[0.]\n",
      " [0.]\n",
      " [1.]\n",
      " [0.]]\n",
      "[[0.33333333]\n",
      " [0.33333333]\n",
      " [0.        ]\n",
      " [0.33333333]]\n",
      "[[0.22222222]\n",
      " [0.22222222]\n",
      " [0.55555556]\n",
      " [0.        ]]\n",
      "[[0.33333333]\n",
      " [0.33333333]\n",
      " [0.14814815]\n",
      " [0.18518519]]\n"
     ]
    }
   ],
   "source": [
    "step_mat = stoch_mat\n",
    "state = np.array([[0], [0], [0], [1]])\n",
    "\n",
    "remaining_p = []\n",
    "remaining_p.append(np.sum(state))\n",
    "print(state)\n",
    "\n",
    "for i in range(4):\n",
    "    state = np.dot(step_mat, state)\n",
    "    print(state)\n",
    "    remaining_p.append(np.sum(state))"
   ]
  },
  {
   "cell_type": "code",
   "execution_count": 67,
   "metadata": {},
   "outputs": [
    {
     "data": {
      "text/plain": [
       "0.2222222222222222"
      ]
     },
     "execution_count": 67,
     "metadata": {},
     "output_type": "execute_result"
    }
   ],
   "source": [
    "2/9"
   ]
  },
  {
   "cell_type": "code",
   "execution_count": 1,
   "metadata": {},
   "outputs": [
    {
     "ename": "NameError",
     "evalue": "name 'xyz' is not defined",
     "output_type": "error",
     "traceback": [
      "\u001b[0;31m---------------------------------------------------------------------------\u001b[0m",
      "\u001b[0;31mNameError\u001b[0m                                 Traceback (most recent call last)",
      "\u001b[0;32m<ipython-input-1-c63e577b395f>\u001b[0m in \u001b[0;36m<module>\u001b[0;34m\u001b[0m\n\u001b[0;32m----> 1\u001b[0;31m \u001b[0;32mif\u001b[0m \u001b[0mxyz\u001b[0m \u001b[0;34m==\u001b[0m \u001b[0;32mNone\u001b[0m\u001b[0;34m:\u001b[0m\u001b[0;34m\u001b[0m\u001b[0;34m\u001b[0m\u001b[0m\n\u001b[0m\u001b[1;32m      2\u001b[0m     \u001b[0mprint\u001b[0m\u001b[0;34m(\u001b[0m\u001b[0;34m'yup'\u001b[0m\u001b[0;34m)\u001b[0m\u001b[0;34m\u001b[0m\u001b[0;34m\u001b[0m\u001b[0m\n",
      "\u001b[0;31mNameError\u001b[0m: name 'xyz' is not defined"
     ]
    }
   ],
   "source": []
  },
  {
   "cell_type": "code",
   "execution_count": null,
   "metadata": {},
   "outputs": [],
   "source": []
  }
 ],
 "metadata": {
  "kernelspec": {
   "display_name": "Python 3",
   "language": "python",
   "name": "python3"
  },
  "language_info": {
   "codemirror_mode": {
    "name": "ipython",
    "version": 3
   },
   "file_extension": ".py",
   "mimetype": "text/x-python",
   "name": "python",
   "nbconvert_exporter": "python",
   "pygments_lexer": "ipython3",
   "version": "3.7.3"
  }
 },
 "nbformat": 4,
 "nbformat_minor": 2
}
