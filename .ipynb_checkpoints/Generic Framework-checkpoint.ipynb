{
 "cells": [
  {
   "cell_type": "code",
   "execution_count": 25,
   "metadata": {},
   "outputs": [],
   "source": [
    "import numpy as np\n",
    "import matplotlib.pyplot as plt\n",
    "import matplotlib as mlp\n",
    "import pandas as pd\n",
    "import networkx as nx\n",
    "import scipy as sp\n",
    "\n",
    "#see https://markdunne.github.io/2016/04/10/The-London-Tube-as-a-Graph/"
   ]
  },
  {
   "cell_type": "code",
   "execution_count": 3,
   "metadata": {},
   "outputs": [],
   "source": [
    "loc = 'datasets'\n",
    "\n",
    "lines       = pd.read_csv('{}/london.lines.csv'.format(loc), index_col=0)\n",
    "stations    = pd.read_csv('{}/london.stations.csv'.format(loc), index_col=0)\n",
    "connections = pd.read_csv('{}/london.connections.csv'.format(loc))"
   ]
  },
  {
   "cell_type": "code",
   "execution_count": 125,
   "metadata": {},
   "outputs": [
    {
     "name": "stderr",
     "output_type": "stream",
     "text": [
      "/anaconda3/lib/python3.7/site-packages/ipykernel_launcher.py:12: DeprecationWarning: \n",
      ".ix is deprecated. Please use\n",
      ".loc for label based indexing or\n",
      ".iloc for positional indexing\n",
      "\n",
      "See the documentation here:\n",
      "http://pandas.pydata.org/pandas-docs/stable/indexing.html#ix-indexer-is-deprecated\n",
      "  if sys.path[0] == '':\n",
      "/anaconda3/lib/python3.7/site-packages/ipykernel_launcher.py:13: DeprecationWarning: \n",
      ".ix is deprecated. Please use\n",
      ".loc for label based indexing or\n",
      ".iloc for positional indexing\n",
      "\n",
      "See the documentation here:\n",
      "http://pandas.pydata.org/pandas-docs/stable/indexing.html#ix-indexer-is-deprecated\n",
      "  del sys.path[0]\n"
     ]
    }
   ],
   "source": [
    "#make a simple graph for each line\n",
    "\n",
    "line_graphs = {}\n",
    "\n",
    "for line_no in lines.index.values:\n",
    "    \n",
    "    current_line = connections.loc[connections['line'] == line_no]\n",
    "\n",
    "    line_graphs[lines.loc[line_no]['name']] = nx.Graph()\n",
    "\n",
    "    for connection_id, connection in current_line.iterrows():\n",
    "        station1_name = stations.ix[connection['station1']]['name']\n",
    "        station2_name = stations.ix[connection['station2']]['name']\n",
    "        line_graphs[lines.loc[line_no]['name']].add_edge(station1_name, station2_name, time = connection['time'])"
   ]
  },
  {
   "cell_type": "code",
   "execution_count": 151,
   "metadata": {},
   "outputs": [],
   "source": [
    "#add all the lines to make the full network multi-graph\n",
    "\n",
    "full_map = nx.MultiGraph()\n",
    "\n",
    "for current_line in line_graphs.values():\n",
    "    full_map.add_edges_from(current_line.edges)"
   ]
  },
  {
   "cell_type": "code",
   "execution_count": 152,
   "metadata": {},
   "outputs": [],
   "source": [
    "#find the diffusion from the lines, using transfer matrix, initial population"
   ]
  },
  {
   "cell_type": "code",
   "execution_count": null,
   "metadata": {},
   "outputs": [],
   "source": [
    "#find the return times to the line, using intial populations andd transfer matrices - modified to remove walkers\n",
    "# i.e. set the components of the transfer matrix on the line to zero and they will act as sink, measure the proportion lost each interation."
   ]
  }
 ],
 "metadata": {
  "kernelspec": {
   "display_name": "Python 3",
   "language": "python",
   "name": "python3"
  },
  "language_info": {
   "codemirror_mode": {
    "name": "ipython",
    "version": 3
   },
   "file_extension": ".py",
   "mimetype": "text/x-python",
   "name": "python",
   "nbconvert_exporter": "python",
   "pygments_lexer": "ipython3",
   "version": "3.7.3"
  }
 },
 "nbformat": 4,
 "nbformat_minor": 2
}
