{
 "cells": [
  {
   "cell_type": "markdown",
   "metadata": {},
   "source": [
    "# Random Walkers on the Tube Network"
   ]
  },
  {
   "cell_type": "code",
   "execution_count": 72,
   "metadata": {},
   "outputs": [
    {
     "data": {
      "text/html": [
       "\n",
       "    <div class=\"bk-root\">\n",
       "        <a href=\"http://bokeh.pydata.org\" target=\"_blank\" class=\"bk-logo bk-logo-small bk-logo-notebook\"></a>\n",
       "        <span id=\"2ec48145-2a9d-4212-8bd0-0de0627b2259\">Loading BokehJS ...</span>\n",
       "    </div>"
      ]
     },
     "metadata": {},
     "output_type": "display_data"
    },
    {
     "data": {
      "application/javascript": [
       "\n",
       "(function(global) {\n",
       "  function now() {\n",
       "    return new Date();\n",
       "  }\n",
       "\n",
       "  var force = true;\n",
       "\n",
       "  if (typeof (window._bokeh_onload_callbacks) === \"undefined\" || force === true) {\n",
       "    window._bokeh_onload_callbacks = [];\n",
       "    window._bokeh_is_loading = undefined;\n",
       "  }\n",
       "\n",
       "\n",
       "  \n",
       "  if (typeof (window._bokeh_timeout) === \"undefined\" || force === true) {\n",
       "    window._bokeh_timeout = Date.now() + 5000;\n",
       "    window._bokeh_failed_load = false;\n",
       "  }\n",
       "\n",
       "  var NB_LOAD_WARNING = {'data': {'text/html':\n",
       "     \"<div style='background-color: #fdd'>\\n\"+\n",
       "     \"<p>\\n\"+\n",
       "     \"BokehJS does not appear to have successfully loaded. If loading BokehJS from CDN, this \\n\"+\n",
       "     \"may be due to a slow or bad network connection. Possible fixes:\\n\"+\n",
       "     \"</p>\\n\"+\n",
       "     \"<ul>\\n\"+\n",
       "     \"<li>re-rerun `output_notebook()` to attempt to load from CDN again, or</li>\\n\"+\n",
       "     \"<li>use INLINE resources instead, as so:</li>\\n\"+\n",
       "     \"</ul>\\n\"+\n",
       "     \"<code>\\n\"+\n",
       "     \"from bokeh.resources import INLINE\\n\"+\n",
       "     \"output_notebook(resources=INLINE)\\n\"+\n",
       "     \"</code>\\n\"+\n",
       "     \"</div>\"}};\n",
       "\n",
       "  function display_loaded() {\n",
       "    if (window.Bokeh !== undefined) {\n",
       "      var el = document.getElementById(\"2ec48145-2a9d-4212-8bd0-0de0627b2259\");\n",
       "      el.textContent = \"BokehJS \" + Bokeh.version + \" successfully loaded.\";\n",
       "    } else if (Date.now() < window._bokeh_timeout) {\n",
       "      setTimeout(display_loaded, 100)\n",
       "    }\n",
       "  }\n",
       "\n",
       "  function run_callbacks() {\n",
       "    window._bokeh_onload_callbacks.forEach(function(callback) { callback() });\n",
       "    delete window._bokeh_onload_callbacks\n",
       "    console.info(\"Bokeh: all callbacks have finished\");\n",
       "  }\n",
       "\n",
       "  function load_libs(js_urls, callback) {\n",
       "    window._bokeh_onload_callbacks.push(callback);\n",
       "    if (window._bokeh_is_loading > 0) {\n",
       "      console.log(\"Bokeh: BokehJS is being loaded, scheduling callback at\", now());\n",
       "      return null;\n",
       "    }\n",
       "    if (js_urls == null || js_urls.length === 0) {\n",
       "      run_callbacks();\n",
       "      return null;\n",
       "    }\n",
       "    console.log(\"Bokeh: BokehJS not loaded, scheduling load and callback at\", now());\n",
       "    window._bokeh_is_loading = js_urls.length;\n",
       "    for (var i = 0; i < js_urls.length; i++) {\n",
       "      var url = js_urls[i];\n",
       "      var s = document.createElement('script');\n",
       "      s.src = url;\n",
       "      s.async = false;\n",
       "      s.onreadystatechange = s.onload = function() {\n",
       "        window._bokeh_is_loading--;\n",
       "        if (window._bokeh_is_loading === 0) {\n",
       "          console.log(\"Bokeh: all BokehJS libraries loaded\");\n",
       "          run_callbacks()\n",
       "        }\n",
       "      };\n",
       "      s.onerror = function() {\n",
       "        console.warn(\"failed to load library \" + url);\n",
       "      };\n",
       "      console.log(\"Bokeh: injecting script tag for BokehJS library: \", url);\n",
       "      document.getElementsByTagName(\"head\")[0].appendChild(s);\n",
       "    }\n",
       "  };var element = document.getElementById(\"2ec48145-2a9d-4212-8bd0-0de0627b2259\");\n",
       "  if (element == null) {\n",
       "    console.log(\"Bokeh: ERROR: autoload.js configured with elementid '2ec48145-2a9d-4212-8bd0-0de0627b2259' but no matching script tag was found. \")\n",
       "    return false;\n",
       "  }\n",
       "\n",
       "  var js_urls = [\"https://cdn.pydata.org/bokeh/release/bokeh-0.12.5.min.js\", \"https://cdn.pydata.org/bokeh/release/bokeh-widgets-0.12.5.min.js\"];\n",
       "\n",
       "  var inline_js = [\n",
       "    function(Bokeh) {\n",
       "      Bokeh.set_log_level(\"info\");\n",
       "    },\n",
       "    \n",
       "    function(Bokeh) {\n",
       "      \n",
       "    },\n",
       "    \n",
       "    function(Bokeh) {\n",
       "      \n",
       "      document.getElementById(\"2ec48145-2a9d-4212-8bd0-0de0627b2259\").textContent = \"BokehJS is loading...\";\n",
       "    },\n",
       "    function(Bokeh) {\n",
       "      console.log(\"Bokeh: injecting CSS: https://cdn.pydata.org/bokeh/release/bokeh-0.12.5.min.css\");\n",
       "      Bokeh.embed.inject_css(\"https://cdn.pydata.org/bokeh/release/bokeh-0.12.5.min.css\");\n",
       "      console.log(\"Bokeh: injecting CSS: https://cdn.pydata.org/bokeh/release/bokeh-widgets-0.12.5.min.css\");\n",
       "      Bokeh.embed.inject_css(\"https://cdn.pydata.org/bokeh/release/bokeh-widgets-0.12.5.min.css\");\n",
       "    }\n",
       "  ];\n",
       "\n",
       "  function run_inline_js() {\n",
       "    \n",
       "    if ((window.Bokeh !== undefined) || (force === true)) {\n",
       "      for (var i = 0; i < inline_js.length; i++) {\n",
       "        inline_js[i](window.Bokeh);\n",
       "      }if (force === true) {\n",
       "        display_loaded();\n",
       "      }} else if (Date.now() < window._bokeh_timeout) {\n",
       "      setTimeout(run_inline_js, 100);\n",
       "    } else if (!window._bokeh_failed_load) {\n",
       "      console.log(\"Bokeh: BokehJS failed to load within specified timeout.\");\n",
       "      window._bokeh_failed_load = true;\n",
       "    } else if (force !== true) {\n",
       "      var cell = $(document.getElementById(\"2ec48145-2a9d-4212-8bd0-0de0627b2259\")).parents('.cell').data().cell;\n",
       "      cell.output_area.append_execute_result(NB_LOAD_WARNING)\n",
       "    }\n",
       "\n",
       "  }\n",
       "\n",
       "  if (window._bokeh_is_loading === 0) {\n",
       "    console.log(\"Bokeh: BokehJS loaded, going straight to plotting\");\n",
       "    run_inline_js();\n",
       "  } else {\n",
       "    load_libs(js_urls, function() {\n",
       "      console.log(\"Bokeh: BokehJS plotting callback run at\", now());\n",
       "      run_inline_js();\n",
       "    });\n",
       "  }\n",
       "}(this));"
      ]
     },
     "metadata": {},
     "output_type": "display_data"
    }
   ],
   "source": [
    "import numpy as np\n",
    "import matplotlib.pyplot as plt\n",
    "import matplotlib as mlp\n",
    "import pandas as pd\n",
    "\n",
    "import colorsys\n",
    "from collections import Counter\n",
    "from bokeh.plotting import figure, show\n",
    "from bokeh.resources import CDN\n",
    "from bokeh.io import output_notebook\n",
    "output_notebook( resources=CDN )\n",
    "\n",
    "from graph_rules import *\n",
    "\n",
    "import networkx as nx\n",
    "\n",
    "pd.set_option('max_colwidth', 200)\n",
    "\n",
    "%matplotlib inline"
   ]
  },
  {
   "cell_type": "markdown",
   "metadata": {},
   "source": [
    "### Import Data for Network"
   ]
  },
  {
   "cell_type": "code",
   "execution_count": 2,
   "metadata": {
    "collapsed": true
   },
   "outputs": [],
   "source": [
    "loc = 'datasets'\n",
    "\n",
    "lines       = pd.read_csv('{}/london.lines.csv'.format(loc), index_col=0)\n",
    "stations    = pd.read_csv('{}/london.stations.csv'.format(loc), index_col=0)\n",
    "connections = pd.read_csv('{}/london.connections.csv'.format(loc))"
   ]
  },
  {
   "cell_type": "code",
   "execution_count": 3,
   "metadata": {},
   "outputs": [
    {
     "data": {
      "text/html": [
       "<div>\n",
       "<style>\n",
       "    .dataframe thead tr:only-child th {\n",
       "        text-align: right;\n",
       "    }\n",
       "\n",
       "    .dataframe thead th {\n",
       "        text-align: left;\n",
       "    }\n",
       "\n",
       "    .dataframe tbody tr th {\n",
       "        vertical-align: top;\n",
       "    }\n",
       "</style>\n",
       "<table border=\"1\" class=\"dataframe\">\n",
       "  <thead>\n",
       "    <tr style=\"text-align: right;\">\n",
       "      <th></th>\n",
       "      <th>name</th>\n",
       "      <th>colour</th>\n",
       "      <th>stripe</th>\n",
       "    </tr>\n",
       "    <tr>\n",
       "      <th>line</th>\n",
       "      <th></th>\n",
       "      <th></th>\n",
       "      <th></th>\n",
       "    </tr>\n",
       "  </thead>\n",
       "  <tbody>\n",
       "    <tr>\n",
       "      <th>1</th>\n",
       "      <td>Bakerloo Line</td>\n",
       "      <td>AE6017</td>\n",
       "      <td>NaN</td>\n",
       "    </tr>\n",
       "    <tr>\n",
       "      <th>3</th>\n",
       "      <td>Circle Line</td>\n",
       "      <td>FFE02B</td>\n",
       "      <td>NaN</td>\n",
       "    </tr>\n",
       "    <tr>\n",
       "      <th>6</th>\n",
       "      <td>Hammersmith &amp; City Line</td>\n",
       "      <td>F491A8</td>\n",
       "      <td>NaN</td>\n",
       "    </tr>\n",
       "    <tr>\n",
       "      <th>7</th>\n",
       "      <td>Jubilee Line</td>\n",
       "      <td>949699</td>\n",
       "      <td>NaN</td>\n",
       "    </tr>\n",
       "    <tr>\n",
       "      <th>11</th>\n",
       "      <td>Victoria Line</td>\n",
       "      <td>0A9CDA</td>\n",
       "      <td>NaN</td>\n",
       "    </tr>\n",
       "  </tbody>\n",
       "</table>\n",
       "</div>"
      ],
      "text/plain": [
       "                         name  colour stripe\n",
       "line                                        \n",
       "1               Bakerloo Line  AE6017    NaN\n",
       "3                 Circle Line  FFE02B    NaN\n",
       "6     Hammersmith & City Line  F491A8    NaN\n",
       "7                Jubilee Line  949699    NaN\n",
       "11              Victoria Line  0A9CDA    NaN"
      ]
     },
     "execution_count": 3,
     "metadata": {},
     "output_type": "execute_result"
    }
   ],
   "source": [
    "lines.head()"
   ]
  },
  {
   "cell_type": "code",
   "execution_count": 4,
   "metadata": {},
   "outputs": [
    {
     "data": {
      "text/html": [
       "<div>\n",
       "<style>\n",
       "    .dataframe thead tr:only-child th {\n",
       "        text-align: right;\n",
       "    }\n",
       "\n",
       "    .dataframe thead th {\n",
       "        text-align: left;\n",
       "    }\n",
       "\n",
       "    .dataframe tbody tr th {\n",
       "        vertical-align: top;\n",
       "    }\n",
       "</style>\n",
       "<table border=\"1\" class=\"dataframe\">\n",
       "  <thead>\n",
       "    <tr style=\"text-align: right;\">\n",
       "      <th></th>\n",
       "      <th>latitude</th>\n",
       "      <th>longitude</th>\n",
       "      <th>name</th>\n",
       "      <th>display_name</th>\n",
       "      <th>zone</th>\n",
       "      <th>total_lines</th>\n",
       "      <th>rail</th>\n",
       "    </tr>\n",
       "    <tr>\n",
       "      <th>id</th>\n",
       "      <th></th>\n",
       "      <th></th>\n",
       "      <th></th>\n",
       "      <th></th>\n",
       "      <th></th>\n",
       "      <th></th>\n",
       "      <th></th>\n",
       "    </tr>\n",
       "  </thead>\n",
       "  <tbody>\n",
       "    <tr>\n",
       "      <th>1</th>\n",
       "      <td>51.5028</td>\n",
       "      <td>-0.2801</td>\n",
       "      <td>Acton Town</td>\n",
       "      <td>Acton&lt;br /&gt;Town</td>\n",
       "      <td>3.0</td>\n",
       "      <td>2</td>\n",
       "      <td>0</td>\n",
       "    </tr>\n",
       "    <tr>\n",
       "      <th>2</th>\n",
       "      <td>51.5143</td>\n",
       "      <td>-0.0755</td>\n",
       "      <td>Aldgate</td>\n",
       "      <td>NaN</td>\n",
       "      <td>1.0</td>\n",
       "      <td>2</td>\n",
       "      <td>0</td>\n",
       "    </tr>\n",
       "    <tr>\n",
       "      <th>3</th>\n",
       "      <td>51.5154</td>\n",
       "      <td>-0.0726</td>\n",
       "      <td>Aldgate East</td>\n",
       "      <td>Aldgate&lt;br /&gt;East</td>\n",
       "      <td>1.0</td>\n",
       "      <td>2</td>\n",
       "      <td>0</td>\n",
       "    </tr>\n",
       "    <tr>\n",
       "      <th>4</th>\n",
       "      <td>51.5107</td>\n",
       "      <td>-0.0130</td>\n",
       "      <td>All Saints</td>\n",
       "      <td>All&lt;br /&gt;Saints</td>\n",
       "      <td>2.0</td>\n",
       "      <td>1</td>\n",
       "      <td>0</td>\n",
       "    </tr>\n",
       "    <tr>\n",
       "      <th>5</th>\n",
       "      <td>51.5407</td>\n",
       "      <td>-0.2997</td>\n",
       "      <td>Alperton</td>\n",
       "      <td>NaN</td>\n",
       "      <td>4.0</td>\n",
       "      <td>1</td>\n",
       "      <td>0</td>\n",
       "    </tr>\n",
       "  </tbody>\n",
       "</table>\n",
       "</div>"
      ],
      "text/plain": [
       "    latitude  longitude          name       display_name  zone  total_lines  \\\n",
       "id                                                                            \n",
       "1    51.5028    -0.2801    Acton Town    Acton<br />Town   3.0            2   \n",
       "2    51.5143    -0.0755       Aldgate                NaN   1.0            2   \n",
       "3    51.5154    -0.0726  Aldgate East  Aldgate<br />East   1.0            2   \n",
       "4    51.5107    -0.0130    All Saints    All<br />Saints   2.0            1   \n",
       "5    51.5407    -0.2997      Alperton                NaN   4.0            1   \n",
       "\n",
       "    rail  \n",
       "id        \n",
       "1      0  \n",
       "2      0  \n",
       "3      0  \n",
       "4      0  \n",
       "5      0  "
      ]
     },
     "execution_count": 4,
     "metadata": {},
     "output_type": "execute_result"
    }
   ],
   "source": [
    "stations.head()"
   ]
  },
  {
   "cell_type": "code",
   "execution_count": 5,
   "metadata": {},
   "outputs": [
    {
     "data": {
      "text/html": [
       "<div>\n",
       "<style>\n",
       "    .dataframe thead tr:only-child th {\n",
       "        text-align: right;\n",
       "    }\n",
       "\n",
       "    .dataframe thead th {\n",
       "        text-align: left;\n",
       "    }\n",
       "\n",
       "    .dataframe tbody tr th {\n",
       "        vertical-align: top;\n",
       "    }\n",
       "</style>\n",
       "<table border=\"1\" class=\"dataframe\">\n",
       "  <thead>\n",
       "    <tr style=\"text-align: right;\">\n",
       "      <th></th>\n",
       "      <th>station1</th>\n",
       "      <th>station2</th>\n",
       "      <th>line</th>\n",
       "      <th>time</th>\n",
       "    </tr>\n",
       "  </thead>\n",
       "  <tbody>\n",
       "    <tr>\n",
       "      <th>0</th>\n",
       "      <td>11</td>\n",
       "      <td>163</td>\n",
       "      <td>1</td>\n",
       "      <td>1</td>\n",
       "    </tr>\n",
       "    <tr>\n",
       "      <th>1</th>\n",
       "      <td>11</td>\n",
       "      <td>212</td>\n",
       "      <td>1</td>\n",
       "      <td>2</td>\n",
       "    </tr>\n",
       "    <tr>\n",
       "      <th>2</th>\n",
       "      <td>49</td>\n",
       "      <td>87</td>\n",
       "      <td>1</td>\n",
       "      <td>1</td>\n",
       "    </tr>\n",
       "    <tr>\n",
       "      <th>3</th>\n",
       "      <td>49</td>\n",
       "      <td>197</td>\n",
       "      <td>1</td>\n",
       "      <td>2</td>\n",
       "    </tr>\n",
       "    <tr>\n",
       "      <th>4</th>\n",
       "      <td>82</td>\n",
       "      <td>163</td>\n",
       "      <td>1</td>\n",
       "      <td>2</td>\n",
       "    </tr>\n",
       "  </tbody>\n",
       "</table>\n",
       "</div>"
      ],
      "text/plain": [
       "   station1  station2  line  time\n",
       "0        11       163     1     1\n",
       "1        11       212     1     2\n",
       "2        49        87     1     1\n",
       "3        49       197     1     2\n",
       "4        82       163     1     2"
      ]
     },
     "execution_count": 5,
     "metadata": {},
     "output_type": "execute_result"
    }
   ],
   "source": [
    "connections.head()"
   ]
  },
  {
   "cell_type": "code",
   "execution_count": null,
   "metadata": {
    "collapsed": true
   },
   "outputs": [],
   "source": []
  },
  {
   "cell_type": "code",
   "execution_count": 4,
   "metadata": {
    "collapsed": true
   },
   "outputs": [],
   "source": [
    "## Generate Adjacency Matrix\n",
    "\n",
    "stat_no = len(stations)+1\n",
    "\n",
    "adj_mat = np.zeros((stat_no, stat_no))\n",
    "\n",
    "for connection_id, connection in connections.iterrows():\n",
    "#    print (connection_id)\n",
    "    adj_mat[connection['station1']-1][connection['station2']-1] = 1\n",
    "    adj_mat[connection['station2']-1][connection['station1']-1] = 1\n"
   ]
  },
  {
   "cell_type": "code",
   "execution_count": 78,
   "metadata": {},
   "outputs": [],
   "source": []
  },
  {
   "cell_type": "code",
   "execution_count": 7,
   "metadata": {
    "collapsed": true
   },
   "outputs": [],
   "source": []
  },
  {
   "cell_type": "code",
   "execution_count": 8,
   "metadata": {},
   "outputs": [
    {
     "data": {
      "text/plain": [
       "{'Baker Street': 12,\n",
       " 'Bayswater': 1,\n",
       " 'Bond Street': 5,\n",
       " 'Covent Garden': 2,\n",
       " 'Dollis Hill': 1,\n",
       " 'Edgware Road (B)': 3,\n",
       " 'Edgware Road (C)': 6,\n",
       " 'Embankment': 1,\n",
       " 'Euston': 1,\n",
       " 'Euston Square': 2,\n",
       " 'Farringdon': 3,\n",
       " 'Finchley Road': 6,\n",
       " 'Great Portland Street': 4,\n",
       " 'Holland Park': 1,\n",
       " 'Kilburn': 1,\n",
       " \"King's Cross St. Pancras\": 1,\n",
       " 'Kingsbury': 1,\n",
       " 'Knightsbridge': 1,\n",
       " 'Latimer Road': 1,\n",
       " 'Leicester Square': 1,\n",
       " 'Marylebone': 7,\n",
       " 'Oxford Circus': 2,\n",
       " 'Paddington': 2,\n",
       " 'Picadilly Circus': 2,\n",
       " 'Queensbury': 1,\n",
       " \"Regent's Park\": 6,\n",
       " 'Royal Oak': 1,\n",
       " 'Southwark': 1,\n",
       " \"St. James's Park\": 1,\n",
       " \"St. John's Wood\": 7,\n",
       " 'Swiss Cottage': 2,\n",
       " 'Tottenham Court Road': 1,\n",
       " 'Warren Street': 3,\n",
       " 'Warwick Avenue': 3,\n",
       " 'Wembley Park': 1,\n",
       " 'West Hampstead': 5,\n",
       " 'Westbourne Park': 1}"
      ]
     },
     "execution_count": 8,
     "metadata": {},
     "output_type": "execute_result"
    }
   ],
   "source": [
    "tracked = track_ensemble(10, 100, adj_mat)\n",
    "\n",
    "exits = [track[-1] for track in tracked]\n",
    "    \n",
    "{stations.loc[elem+1]['name']:exits.count(elem) for elem in range(stat_no-1) if exits.count(elem)}"
   ]
  },
  {
   "cell_type": "code",
   "execution_count": 9,
   "metadata": {},
   "outputs": [
    {
     "data": {
      "text/plain": [
       "[[10, 103], [10, 103], [10, 93, 10, 103], [10, 103, 89, 103]]"
      ]
     },
     "execution_count": 9,
     "metadata": {},
     "output_type": "execute_result"
    }
   ],
   "source": [
    "exits = [track for track in tracked if track[-1] == 103]\n",
    "\n",
    "exits"
   ]
  },
  {
   "cell_type": "code",
   "execution_count": 10,
   "metadata": {},
   "outputs": [
    {
     "data": {
      "text/plain": [
       "[['Baker Street', 'Great Portland Street'],\n",
       " ['Baker Street', 'Great Portland Street'],\n",
       " ['Baker Street', 'Finchley Road', 'Baker Street', 'Great Portland Street'],\n",
       " ['Baker Street',\n",
       "  'Great Portland Street',\n",
       "  'Euston Square',\n",
       "  'Great Portland Street']]"
      ]
     },
     "execution_count": 10,
     "metadata": {},
     "output_type": "execute_result"
    }
   ],
   "source": [
    "routes = []\n",
    "\n",
    "for route in exits:\n",
    "    routes.append([stations.loc[elem+1]['name'] for elem in route])\n",
    "\n",
    "routes"
   ]
  },
  {
   "cell_type": "code",
   "execution_count": 45,
   "metadata": {
    "collapsed": true
   },
   "outputs": [],
   "source": [
    "stat_no = len(stations)+1\n",
    "\n",
    "adj_mat_multi = np.zeros((stat_no, stat_no))\n",
    "\n",
    "for connection_id, connection in connections.iterrows():\n",
    "#    print (connection_id)\n",
    "    adj_mat_multi[connection['station1']-1][connection['station2']-1] += 1\n",
    "    adj_mat_multi[connection['station2']-1][connection['station1']-1] += 1"
   ]
  },
  {
   "cell_type": "code",
   "execution_count": 46,
   "metadata": {},
   "outputs": [
    {
     "data": {
      "text/plain": [
       "\"King's Cross St. Pancras\""
      ]
     },
     "execution_count": 46,
     "metadata": {},
     "output_type": "execute_result"
    }
   ],
   "source": [
    "sums = [sum(elem) for elem in adj_mat_multi]\n",
    "stations.loc[sums.index(max(sums))+1]['name']"
   ]
  },
  {
   "cell_type": "code",
   "execution_count": null,
   "metadata": {
    "collapsed": true
   },
   "outputs": [],
   "source": []
  },
  {
   "cell_type": "code",
   "execution_count": null,
   "metadata": {
    "collapsed": true
   },
   "outputs": [],
   "source": []
  },
  {
   "cell_type": "code",
   "execution_count": null,
   "metadata": {
    "collapsed": true
   },
   "outputs": [],
   "source": []
  },
  {
   "cell_type": "code",
   "execution_count": 16,
   "metadata": {},
   "outputs": [
    {
     "ename": "NameError",
     "evalue": "name 'weighted_connect_mat' is not defined",
     "output_type": "error",
     "traceback": [
      "\u001b[1;31m---------------------------------------------------------------------------\u001b[0m",
      "\u001b[1;31mNameError\u001b[0m                                 Traceback (most recent call last)",
      "\u001b[1;32m<ipython-input-16-35eedcedc432>\u001b[0m in \u001b[0;36m<module>\u001b[1;34m()\u001b[0m\n\u001b[1;32m----> 1\u001b[1;33m \u001b[0mmeh\u001b[0m \u001b[1;33m=\u001b[0m \u001b[1;33m[\u001b[0m\u001b[1;33m[\u001b[0m\u001b[0mindex\u001b[0m\u001b[1;33m]\u001b[0m\u001b[1;33m*\u001b[0m\u001b[0mint\u001b[0m\u001b[1;33m(\u001b[0m\u001b[0mweighted_connect_mat\u001b[0m\u001b[1;33m[\u001b[0m\u001b[1;36m144\u001b[0m\u001b[1;33m]\u001b[0m\u001b[1;33m[\u001b[0m\u001b[0mindex\u001b[0m\u001b[1;33m]\u001b[0m\u001b[1;33m)\u001b[0m \u001b[1;32mfor\u001b[0m \u001b[0mindex\u001b[0m \u001b[1;32min\u001b[0m \u001b[0mnp\u001b[0m\u001b[1;33m.\u001b[0m\u001b[0mnonzero\u001b[0m\u001b[1;33m(\u001b[0m\u001b[0mweighted_connect_mat\u001b[0m\u001b[1;33m[\u001b[0m\u001b[1;36m144\u001b[0m\u001b[1;33m]\u001b[0m\u001b[1;33m)\u001b[0m\u001b[1;33m[\u001b[0m\u001b[1;36m0\u001b[0m\u001b[1;33m]\u001b[0m\u001b[1;33m]\u001b[0m\u001b[1;33m\u001b[0m\u001b[0m\n\u001b[0m\u001b[0;32m      2\u001b[0m \u001b[1;33m\u001b[0m\u001b[0m\n\u001b[0;32m      3\u001b[0m \u001b[1;33m[\u001b[0m\u001b[0mitem\u001b[0m \u001b[1;32mfor\u001b[0m \u001b[0msublist\u001b[0m \u001b[1;32min\u001b[0m \u001b[0mmeh\u001b[0m \u001b[1;32mfor\u001b[0m \u001b[0mitem\u001b[0m \u001b[1;32min\u001b[0m \u001b[0msublist\u001b[0m\u001b[1;33m]\u001b[0m\u001b[1;33m\u001b[0m\u001b[0m\n\u001b[0;32m      4\u001b[0m \u001b[1;31m# weighted_connect_mat = adj_mat_multi\u001b[0m\u001b[1;33m\u001b[0m\u001b[1;33m\u001b[0m\u001b[0m\n\u001b[0;32m      5\u001b[0m \u001b[1;33m\u001b[0m\u001b[0m\n",
      "\u001b[1;31mNameError\u001b[0m: name 'weighted_connect_mat' is not defined"
     ]
    }
   ],
   "source": [
    "meh = [[index]*int(weighted_connect_mat[144][index]) for index in np.nonzero(weighted_connect_mat[144])[0]]\n",
    "\n",
    "[item for sublist in meh for item in sublist]\n",
    "# weighted_connect_mat = adj_mat_multi\n",
    "\n",
    "# paths = np.append([[index]*weighted_connect_mat[144][index] for index in np.nonzero(weighted_connect_mat[144])[0]], 'exit')\n",
    "\n",
    "# #next_loc = np.random.choice(paths)"
   ]
  },
  {
   "cell_type": "code",
   "execution_count": 42,
   "metadata": {
    "collapsed": true
   },
   "outputs": [],
   "source": []
  },
  {
   "cell_type": "code",
   "execution_count": 89,
   "metadata": {
    "collapsed": true
   },
   "outputs": [],
   "source": [
    "weighted_exits = weighted_track_ensemble(144, 10000, adj_mat_multi)\n",
    "\n",
    "cons_needed = []\n",
    "\n",
    "for route in weighted_exits:\n",
    "    extra = list(set([tuple(np.sort([x, y])) for x, y in zip(route[:-1], route[1:])]) - set(cons_needed))\n",
    "    cons_needed.extend(extra)"
   ]
  },
  {
   "cell_type": "code",
   "execution_count": 90,
   "metadata": {},
   "outputs": [
    {
     "data": {
      "image/png": "[encoded data removed]",
      "text/plain": [
       "<matplotlib.figure.Figure at 0x1b9974702b0>"
      ]
     },
     "metadata": {},
     "output_type": "display_data"
    }
   ],
   "source": [
    "# for from_stat, to_stat in cons_needed:\n",
    "    \n",
    "#     y_from = stations.loc[from_stat+1]['latitude']\n",
    "#     x_from = stations.loc[from_stat+1]['longitude']\n",
    "#     y_to = stations.loc[to_stat+1]['latitude']\n",
    "#     x_to = stations.loc[to_stat+1]['longitude']\n",
    "    \n",
    "#     plt.plot([x_from, x_to], [y_from, y_to], alpha=0.1, color='b', zorder=0)\n",
    "\n",
    "weighted\n",
    "\n",
    "for route in weighted_exits:\n",
    "    \n",
    "    plt.scatter(stations.loc[route[-1]+1]['longitude'], stations.loc[route[-1]+1]['latitude'], color='k', zorder=10, alpha=0.1)\n",
    "\n",
    "#plt.scatter(stations.loc[144+1]['longitude'], stations.loc[10+1]['latitude'], color='k', zorder=10)"
   ]
  },
  {
   "cell_type": "code",
   "execution_count": 81,
   "metadata": {
    "collapsed": true
   },
   "outputs": [
    {
     "data": {
      "text/plain": [
       "[(10, 103),\n",
       " (89, 144),\n",
       " (89, 103),\n",
       " (38, 127),\n",
       " (9, 94),\n",
       " (94, 159),\n",
       " (9, 127),\n",
       " (38, 144),\n",
       " (91, 144),\n",
       " (125, 222),\n",
       " (144, 222),\n",
       " (88, 169),\n",
       " (88, 144),\n",
       " (39, 88),\n",
       " (88, 276),\n",
       " (191, 276),\n",
       " (39, 169),\n",
       " (6, 144),\n",
       " (122, 144),\n",
       " (94, 122),\n",
       " (13, 91),\n",
       " (82, 192),\n",
       " (248, 253),\n",
       " (93, 253),\n",
       " (17, 192),\n",
       " (10, 82),\n",
       " (10, 248),\n",
       " (17, 185),\n",
       " (10, 93),\n",
       " (10, 162),\n",
       " (159, 265),\n",
       " (81, 162),\n",
       " (6, 187),\n",
       " (28, 156),\n",
       " (12, 166),\n",
       " (166, 187),\n",
       " (22, 156),\n",
       " (12, 156),\n",
       " (27, 161),\n",
       " (191, 211),\n",
       " (10, 211),\n",
       " (148, 161),\n",
       " (27, 191),\n",
       " (155, 166),\n",
       " (13, 166),\n",
       " (150, 196),\n",
       " (101, 276),\n",
       " (150, 258),\n",
       " (101, 258),\n",
       " (47, 125),\n",
       " (47, 249),\n",
       " (223, 259),\n",
       " (94, 223),\n",
       " (191, 196),\n",
       " (10, 27),\n",
       " (93, 289),\n",
       " (2, 262),\n",
       " (2, 155)]"
      ]
     },
     "execution_count": 81,
     "metadata": {},
     "output_type": "execute_result"
    }
   ],
   "source": []
  },
  {
   "cell_type": "code",
   "execution_count": 12,
   "metadata": {
    "collapsed": true
   },
   "outputs": [],
   "source": []
  },
  {
   "cell_type": "code",
   "execution_count": 38,
   "metadata": {
    "collapsed": true
   },
   "outputs": [
    {
     "name": "stdout",
     "output_type": "stream",
     "text": [
      "[10, 93, 10]\n",
      "[10, 93, 289, 93, 10]\n",
      "[10, 211, 191, 27, 161, 148, 161, 148, 207, 148, 161, 148, 207, 148, 207, 185, 17, 192, 217, 192, 81, 192, 17, 185, 121, 73, 98, 73, 137, 73, 137, 73, 137, 73, 137, 73, 16, 292, 16, 292, 16, 73, 286, 95, 194, 95, 286, 73, 16, 109, 208, 109, 100, 109, 100, 109, 208, 109, 264, 107, 264, 51, 264, 241, 208, 109, 16, 73, 16, 292, 73, 292, 73, 137, 73, 286, 73, 292, 73, 286, 95, 194, 204, 194, 95, 194, 204, 194, 95, 286, 95, 194, 95, 286, 73, 292, 16, 73, 121, 98, 235, 98, 73, 292, 16, 292, 73, 137, 73, 292, 16, 73, 16, 109, 208, 109, 264, 0, 264, 241, 264, 0, 264, 109, 16, 292, 73, 286, 73, 137, 73, 16, 109, 264, 241, 264, 0, 51, 0, 233, 175, 233, 175, 29, 175, 233, 0, 233, 0, 72, 0, 264, 51, 264, 107, 140, 107, 264, 109, 100, 226, 149, 226, 100, 109, 264, 109, 208, 109, 208, 109, 208, 109, 264, 241, 208, 109, 16, 109, 264, 51, 264, 0, 264, 0, 51, 264, 0, 233, 0, 264, 107, 140, 212, 140, 107, 264, 107, 264, 241, 208, 241, 208, 241, 208, 109, 264, 0, 51, 264, 107, 264, 241, 264, 51, 264, 241, 264, 0, 72, 71, 72, 0, 233, 0, 233, 0, 233, 175, 29, 175, 29, 189, 29, 189, 130, 189, 130, 189, 130, 189, 29, 189, 29, 175, 233, 0, 233, 175, 29, 175, 29, 189, 29, 175, 29, 175, 29, 175, 233, 175, 29, 189, 130, 189, 130, 189, 29, 175, 29, 189, 130, 189, 130, 129, 130, 189, 29, 189, 29, 175, 233, 0, 72, 181, 72, 181, 193, 181, 193, 4, 193, 4, 193, 181, 193, 4, 193, 181, 72, 0, 72, 71, 72, 181, 72, 71, 72, 181, 193, 4, 193, 4, 193, 4, 193, 181, 72, 181, 193, 181, 193, 181, 193, 181, 193, 4, 193, 4, 193, 4, 251, 250, 234, 209, 290, 114, 290, 114, 183, 114, 290, 209, 234, 209, 290, 209, 74, 221, 219, 133, 219, 133, 219, 133, 219, 133, 124, 133, 124, 270, 124, 270, 124, 133, 219, 221, 219, 133, 124, 270, 124, 133, 124, 270, 124, 270, 124, 133, 124, 133, 219, 133, 124, 270, 124, 133, 124, 133, 219, 221, 219, 133, 124, 270, 124, 270, 124, 270, 124, 270, 124, 133, 124, 270, 124, 270, 124, 133, 124, 133, 219, 221, 219, 221, 219, 133, 219, 133, 219, 133, 124, 270, 124, 270, 124, 133, 124, 133, 219, 221, 219, 133, 219, 133, 124, 270, 124, 270, 124, 270, 124, 270, 124, 270, 124, 270, 124, 270, 124, 270, 124, 133, 219, 221, 74, 221, 74, 221, 219, 133, 219, 133, 124, 270, 124, 133, 124, 133, 219, 133, 124, 270, 124, 270, 124, 270, 124, 270, 124, 133, 219, 221, 219, 133, 219, 133, 124, 270, 124, 270, 124, 270, 124, 270, 124, 133, 124, 270, 124, 270, 124, 270, 124, 133, 219, 133, 124, 133, 219, 133, 124, 270, 124, 270, 124, 270, 124, 270, 124, 133, 124, 270, 124, 270, 124, 133, 219, 133, 124, 270, 124, 133, 219, 133, 124, 270, 124, 133, 124, 270, 124, 133, 124, 270, 124, 270, 124, 270, 124, 270, 124, 133, 219, 133, 124, 133, 124, 133, 219, 221, 74, 209, 290, 114, 183, 114, 177, 201, 177, 114, 177, 114, 290, 114, 177, 114, 183, 198, 183, 198, 179, 178, 167, 61, 167, 178, 167, 213, 52, 45, 49, 45, 49, 45, 52, 213, 52, 213, 52, 213, 52, 213, 167, 178, 167, 61, 167, 213, 167, 213, 167, 61, 167, 213, 167, 178, 167, 213, 52, 213, 52, 213, 52, 213, 167, 61, 279, 61, 279, 61, 167, 178, 179, 198, 179, 198, 183, 114, 183, 198, 179, 198, 183, 198, 183, 198, 183, 114, 290, 209, 74, 209, 234, 209, 290, 209, 234, 209, 290, 209, 74, 221, 219, 133, 219, 221, 219, 133, 219, 133, 124, 133, 124, 133, 219, 133, 124, 270, 124, 270, 124, 133, 219, 133, 219, 221, 219, 133, 219, 221, 219, 133, 124, 133, 124, 133, 219, 133, 219, 133, 219, 221, 219, 221, 74, 221, 74, 209, 290, 114, 183, 114, 177, 114, 183, 114, 183, 114, 177, 114, 177, 114, 183, 114, 183, 114, 290, 114, 177, 114, 183, 198, 183, 198, 179, 178, 179, 198, 183, 198, 179, 178, 179, 198, 179, 178, 179, 198, 183, 114, 290, 209, 74, 221, 219, 221, 219, 133, 219, 221, 74, 221, 74, 209, 290, 114, 183, 198, 179, 198, 183, 198, 183, 198, 183, 198, 179, 198, 183, 114, 177, 201, 281, 171, 70, 296, 141, 296, 70, 171, 281, 143, 281, 93, 253, 93, 253, 248, 253, 248, 10]\n",
      "[10, 211, 191, 276, 101, 276, 88, 276, 88, 39, 88, 39, 88, 276, 101, 258, 191, 258, 150, 48, 150, 48, 86, 278, 86, 284, 106, 191, 211, 191, 106, 196, 150, 59, 150, 48, 196, 106, 27, 161, 148, 207, 148, 207, 148, 207, 185, 17, 185, 207, 185, 121, 185, 126, 185, 17, 185, 207, 185, 207, 185, 121, 73, 286, 73, 16, 109, 264, 241, 264, 241, 264, 241, 208, 241, 208, 241, 208, 241, 208, 109, 208, 109, 16, 292, 73, 121, 98, 235, 145, 235, 98, 73, 16, 109, 208, 109, 264, 241, 264, 0, 51, 0, 72, 181, 72, 71, 72, 0, 51, 264, 0, 51, 0, 51, 0, 51, 264, 0, 72, 181, 72, 0, 233, 175, 233, 0, 264, 241, 264, 107, 140, 107, 140, 212, 140, 107, 140, 107, 264, 109, 264, 0, 51, 264, 107, 140, 212, 140, 212, 140, 212, 140, 212, 140, 212, 140, 212, 140, 212, 140, 212, 140, 212, 140, 107, 264, 241, 264, 51, 264, 51, 0, 264, 241, 264, 107, 140, 212, 140, 212, 140, 107, 140, 212, 140, 107, 140, 212, 140, 212, 140, 107, 264, 107, 264, 107, 140, 107, 264, 0, 72, 0, 72, 71, 285, 71, 72, 181, 193, 181, 193, 4, 251, 4, 193, 181, 193, 4, 251, 4, 193, 181, 193, 4, 193, 4, 193, 181, 193, 181, 193, 4, 193, 4, 251, 250, 251, 4, 193, 181, 72, 71, 72, 181, 72, 71, 285, 180, 75, 180, 111, 180, 285, 180, 75, 180, 285, 180, 75, 180, 111, 195, 111, 180, 75, 180, 285, 180, 75, 295, 225, 126, 185, 121, 73, 292, 73, 98, 121, 185, 121, 185, 17, 192, 277, 192, 82, 10]\n",
      "[10, 27, 191, 211, 10]\n",
      "[10, 93, 289, 93, 253, 93, 10]\n",
      "[10, 162, 10]\n",
      "[10, 27, 10]\n",
      "[10, 93, 253, 93, 10]\n",
      "[10, 162, 81, 162, 10]\n",
      "[10, 82, 192, 277, 192, 81, 162, 10]\n",
      "[10, 27, 191, 258, 191, 27, 191, 258, 125, 59, 125, 59, 150, 59, 150, 59, 150, 59, 150, 59, 125, 222, 144, 91, 13, 166, 12, 156, 28, 156, 12, 278, 284, 106, 196, 150, 48, 196, 191, 27, 161, 148, 161, 148, 161, 148, 161, 148, 161, 27, 10]\n",
      "[10, 162, 10]\n",
      "[10, 82, 10]\n",
      "[10, 93, 253, 93, 10]\n",
      "[10, 93, 289, 141, 289, 141, 296, 70, 296, 70, 296, 141, 296, 70, 296, 70, 171, 70, 171, 281, 143, 206, 143, 206, 44, 242, 44, 242, 44, 242, 44, 206, 44, 206, 44, 206, 44, 242, 44, 206, 44, 242, 44, 242, 44, 242, 44, 206, 44, 242, 44, 206, 143, 206, 143, 281, 171, 70, 296, 141, 289, 141, 289, 141, 289, 93, 10]\n",
      "[10, 103, 10]\n",
      "[10, 248, 253, 248, 10]\n",
      "[10, 27, 161, 27, 10]\n",
      "[10, 27, 161, 27, 106, 196, 48, 150, 196, 48, 196, 150, 258, 125, 47, 249, 47, 125, 47, 249, 12, 166, 187, 166, 13, 166, 187, 166, 155, 23, 155, 166, 155, 166, 13, 91, 144, 6, 187, 6, 144, 89, 103, 89, 103, 89, 103, 89, 103, 89, 103, 89, 103, 89, 144, 88, 39, 169, 39, 138, 263, 7, 263, 138, 263, 7, 123, 76, 92, 76, 92, 164, 92, 164, 92, 164, 92, 76, 123, 7, 123, 76, 123, 76, 123, 7, 263, 138, 39, 169, 39, 88, 276, 191, 211, 10]\n",
      "[10, 211, 191, 106, 196, 150, 258, 101, 276, 101, 258, 125, 59, 125, 258, 191, 27, 191, 27, 161, 148, 161, 27, 191, 258, 191, 211, 191, 258, 125, 59, 125, 47, 125, 258, 150, 59, 150, 196, 150, 59, 150, 59, 150, 48, 86, 254, 24, 160, 43, 160, 24, 160, 43, 160, 43, 165, 43, 165, 43, 160, 24, 160, 24, 254, 86, 254, 24, 160, 24, 160, 24, 254, 86, 254, 24, 160, 24, 254, 24, 254, 24, 160, 43, 160, 43, 160, 43, 160, 24, 160, 24, 254, 86, 278, 147, 83, 147, 83, 147, 278, 232, 156, 22, 156, 12, 224, 261, 224, 261, 224, 275, 224, 261, 224, 294, 227, 294, 224, 294, 243, 163, 246, 152, 153, 274, 210, 97, 172, 15, 172, 15, 172, 15, 90, 15, 172, 97, 172, 97, 172, 15, 90, 15, 90, 108, 102, 50, 102, 108, 90, 108, 102, 50, 214, 300, 240, 300, 240, 300, 36, 300, 240, 229, 240, 300, 240, 229, 240, 229, 153, 274, 153, 152, 246, 163, 243, 163, 23, 163, 23, 155, 23, 155, 23, 155, 12, 156, 28, 83, 135, 83, 147, 278, 232, 156, 28, 83, 147, 278, 147, 278, 86, 284, 278, 232, 278, 284, 106, 191, 276, 101, 258, 125, 59, 150, 48, 86, 254, 24, 254, 86, 278, 284, 247, 284, 278, 284, 247, 284, 247, 272, 247, 272, 247, 272, 228, 272, 228, 272, 197, 271, 197, 272, 106, 191, 27, 10]\n",
      "[10, 93, 253, 93, 281, 93, 253, 93, 289, 141, 296, 141, 296, 70, 296, 70, 171, 281, 171, 70, 171, 281, 143, 206, 143, 206, 143, 206, 44, 206, 44, 206, 44, 206, 143, 281, 143, 281, 201, 281, 143, 206, 44, 242, 44, 242, 44, 242, 44, 242, 44, 206, 143, 281, 93, 289, 141, 296, 141, 296, 141, 289, 93, 281, 93, 253, 248, 10]\n",
      "[10, 103, 10]\n",
      "[10, 211, 10]\n",
      "[10, 82, 10]\n",
      "[10, 27, 10]\n",
      "[10, 248, 253, 93, 10]\n",
      "[10, 103, 10]\n",
      "[10, 248, 253, 248, 10]\n",
      "[10, 211, 10]\n",
      "[10, 27, 106, 191, 27, 161, 148, 207, 185, 207, 185, 17, 192, 81, 192, 82, 10]\n",
      "[10, 162, 81, 162, 10]\n",
      "[10, 27, 106, 191, 196, 48, 196, 191, 276, 191, 27, 191, 276, 101, 276, 101, 276, 101, 258, 150, 258, 191, 196, 48, 86, 254, 86, 254, 24, 254, 86, 278, 147, 278, 284, 106, 196, 150, 48, 196, 150, 48, 86, 284, 247, 272, 197, 272, 106, 27, 161, 27, 191, 258, 150, 196, 48, 86, 48, 150, 196, 48, 86, 48, 150, 48, 86, 48, 86, 48, 196, 48, 196, 48, 196, 106, 191, 196, 48, 86, 48, 150, 48, 86, 48, 196, 150, 48, 196, 106, 272, 247, 272, 228, 235, 228, 272, 106, 132, 106, 284, 106, 132, 145, 132, 145, 235, 98, 235, 228, 235, 145, 235, 98, 235, 228, 272, 228, 235, 98, 235, 145, 132, 106, 284, 106, 272, 228, 235, 228, 272, 197, 271, 244, 34, 244, 54, 53, 54, 244, 271, 197, 272, 106, 196, 150, 48, 86, 48, 86, 48, 196, 48, 86, 48, 86, 254, 86, 278, 284, 278, 86, 48, 196, 150, 59, 150, 196, 106, 27, 191, 196, 48, 196, 150, 59, 150, 196, 48, 86, 278, 86, 48, 196, 191, 106, 132, 145, 235, 228, 272, 228, 235, 228, 272, 106, 27, 191, 106, 191, 27, 10]\n",
      "[10, 103, 89, 103, 89, 144, 88, 276, 191, 196, 48, 196, 150, 48, 196, 48, 86, 278, 232, 278, 135, 190, 135, 190, 244, 34, 244, 271, 244, 271, 244, 34, 244, 34, 244, 34, 244, 34, 244, 190, 135, 278, 135, 278, 232, 278, 12, 249, 12, 224, 12, 249, 12, 249, 47, 125, 59, 150, 48, 86, 254, 24, 160, 24, 254, 24, 160, 43, 165, 43, 160, 43, 165, 262, 165, 43, 165, 262, 1, 155, 12, 224, 12, 155, 12, 224, 275, 215, 275, 215, 40, 22, 40, 215, 40, 41, 40, 22, 156, 12, 166, 12, 224, 261, 224, 261, 224, 275, 215, 40, 252, 173, 252, 173, 252, 40, 41, 291, 283, 291, 41, 182, 42, 288, 246, 203, 246, 163, 32, 35, 32, 163, 32, 163, 246, 152, 153, 274, 210, 97, 172, 97, 210, 97, 172, 15, 90, 15, 90, 108, 102, 50, 102, 50, 214, 50, 214, 300, 214, 50, 214, 50, 102, 108, 90, 108, 90, 108, 90, 15, 90, 108, 102, 50, 214, 50, 102, 50, 102, 108, 90, 15, 90, 15, 172, 15, 172, 97, 172, 15, 90, 15, 172, 97, 210, 97, 210, 97, 210, 97, 172, 97, 172, 15, 90, 15, 90, 108, 102, 108, 102, 50, 102, 108, 90, 108, 102, 108, 102, 108, 90, 108, 102, 50, 102, 108, 102, 108, 90, 108, 102, 50, 102, 50, 102, 108, 102, 50, 102, 50, 214, 50, 102, 108, 102, 108, 102, 50, 102, 108, 90, 108, 90, 15, 90, 15, 90, 108, 90, 15, 172, 97, 172, 97, 172, 97, 172, 15, 90, 15, 90, 15, 90, 108, 90, 108, 102, 108, 90, 15, 90, 15, 90, 108, 102, 50, 214, 300, 214, 300, 240, 229, 240, 300, 240, 229, 153, 274, 153, 229, 153, 229, 240, 229, 240, 229, 153, 274, 210, 274, 210, 97, 172, 97, 172, 97, 210, 274, 153, 229, 153, 229, 240, 229, 153, 152, 246, 163, 246, 203, 246, 163, 243, 294, 2, 262, 165, 262, 165, 43, 165, 43, 160, 43, 160, 24, 254, 86, 48, 150, 196, 191, 106, 196, 48, 86, 48, 150, 59, 150, 196, 191, 258, 125, 59, 125, 59, 125, 59, 150, 59, 150, 48, 196, 191, 258, 191, 211, 191, 106, 27, 161, 27, 191, 258, 150, 59, 125, 222, 125, 222, 144, 122, 144, 89, 103, 10]\n",
      "[10, 93, 10]\n",
      "[10, 248, 10]\n",
      "[10, 248, 10]\n",
      "[10, 248, 10]\n",
      "[10, 162, 81, 192, 277, 158, 142, 205, 136, 205, 136, 297, 112, 245, 280, 245, 280, 184, 236, 139, 236, 139, 113, 139, 236, 139, 236, 139, 236, 184, 280, 245, 112, 245, 112, 245, 280, 184, 280, 184, 280, 245, 112, 245, 280, 184, 280, 184, 236, 184, 280, 184, 236, 184, 236, 184, 280, 184, 280, 245, 112, 297, 112, 245, 280, 245, 112, 245, 112, 245, 280, 245, 280, 245, 280, 245, 112, 245, 280, 184, 280, 184, 236, 139, 236, 139, 113, 139, 236, 184, 236, 184, 280, 184, 280, 184, 236, 184, 236, 139, 113, 139, 113, 139, 236, 184, 280, 184, 280, 184, 280, 245, 280, 184, 280, 245, 112, 297, 136, 205, 136, 205, 142, 158, 277, 192, 217, 192, 17, 192, 277, 158, 142, 158, 142, 158, 277, 192, 217, 282, 217, 282, 146, 282, 146, 149, 146, 149, 226, 149, 226, 100, 226, 100, 226, 100, 109, 16, 109, 264, 0, 264, 0, 264, 241, 208, 109, 16, 73, 121, 185, 121, 73, 121, 98, 121, 185, 17, 185, 17, 192, 81, 192, 217, 282, 217, 192, 277, 192, 17, 185, 121, 73, 286, 95, 194, 95, 286, 73, 137, 73, 121, 185, 17, 192, 81, 192, 82, 192, 217, 282, 217, 192, 277, 192, 277, 192, 277, 158, 142, 158, 277, 158, 277, 192, 82, 192, 81, 192, 17, 185, 121, 185, 17, 185, 207, 185, 207, 148, 161, 148, 161, 148, 207, 185, 126, 185, 207, 148, 207, 185, 17, 185, 121, 73, 286, 73, 292, 16, 292, 73, 121, 185, 17, 192, 17, 192, 82, 192, 82, 10]\n",
      "[10, 103, 10]\n",
      "[10, 162, 81, 162, 81, 192, 217, 192, 81, 162, 10]\n",
      "[10, 162, 81, 192, 217, 282, 146, 149, 226, 100, 109, 16, 292, 73, 16, 292, 16, 109, 264, 241, 264, 0, 72, 181, 193, 181, 72, 181, 72, 71, 72, 181, 193, 181, 72, 71, 72, 0, 72, 0, 264, 107, 264, 109, 100, 109, 16, 292, 73, 292, 16, 109, 16, 292, 16, 292, 73, 137, 73, 98, 121, 73, 121, 73, 292, 16, 73, 98, 121, 73, 292, 16, 109, 264, 51, 0, 51, 264, 241, 208, 241, 264, 51, 264, 109, 264, 0, 233, 175, 29, 189, 29, 175, 29, 175, 29, 189, 29, 175, 29, 189, 130, 129, 130, 129, 130, 189, 130, 189, 130, 129, 130, 129, 130, 129, 130, 189, 29, 175, 29, 189, 130, 189, 130, 189, 130, 189, 130, 129, 131, 129, 131, 129, 131, 129, 131, 115, 117, 115, 117, 115, 116, 115, 117, 116, 115, 117, 116, 115, 131, 115, 116, 117, 115, 116, 115, 117, 116, 117, 115, 116, 117, 116, 115, 131, 115, 116, 115, 131, 115, 131, 129, 130, 129, 130, 129, 131, 129, 130, 129, 130, 129, 130, 129, 130, 129, 130, 189, 29, 189, 130, 129, 130, 129, 131, 129, 130, 129, 131, 129, 130, 129, 131, 115, 131, 129, 130, 189, 130, 189, 29, 189, 29, 175, 233, 0, 72, 0, 51, 0, 264, 0, 72, 0, 233, 175, 29, 189, 29, 175, 233, 175, 233, 0, 51, 264, 51, 264, 51, 264, 107, 264, 51, 0, 72, 181, 72, 0, 51, 264, 0, 72, 0, 264, 107, 140, 107, 140, 107, 140, 212, 140, 107, 264, 51, 264, 241, 264, 109, 100, 226, 100, 226, 100, 226, 100, 226, 149, 226, 149, 146, 149, 146, 282, 146, 149, 226, 100, 226, 149, 226, 100, 226, 100, 109, 100, 226, 100, 109, 100, 226, 149, 226, 149, 146, 149, 226, 100, 109, 208, 241, 264, 241, 264, 241, 208, 241, 208, 241, 208, 241, 208, 241, 264, 51, 264, 241, 264, 0, 233, 0, 72, 0, 72, 181, 193, 4, 251, 250, 234, 250, 234, 250, 234, 209, 290, 209, 290, 114, 183, 198, 179, 178, 179, 198, 183, 114, 183, 114, 290, 114, 290, 209, 234, 250, 251, 4, 193, 4, 251, 4, 251, 4, 251, 250, 234, 250, 234, 209, 74, 209, 74, 209, 290, 114, 183, 198, 183, 114, 290, 114, 177, 201, 281, 143, 206, 143, 281, 93, 253, 93, 10]\n",
      "[10, 248, 10]\n",
      "[10, 93, 10]\n",
      "[10, 248, 253, 248, 10]\n",
      "[10, 103, 89, 144, 88, 39, 46, 39, 169, 88, 144, 6, 187, 166, 13, 91, 13, 91, 144, 222, 125, 59, 125, 222, 125, 222, 125, 47, 249, 12, 278, 232, 156, 12, 166, 12, 166, 12, 249, 12, 278, 147, 278, 284, 278, 284, 106, 132, 145, 132, 106, 132, 106, 196, 191, 106, 196, 48, 150, 196, 191, 106, 27, 106, 191, 106, 27, 10]\n",
      "[10, 248, 10]\n",
      "[10, 93, 281, 171, 70, 171, 281, 93, 10]\n",
      "[10, 162, 10]\n",
      "[10, 248, 10]\n",
      "[10, 248, 253, 93, 10]\n",
      "[10, 248, 253, 248, 10]\n",
      "[10, 248, 10]\n",
      "[10, 27, 191, 196, 150, 196, 48, 86, 48, 86, 284, 106, 272, 228, 272, 247, 272, 247, 272, 228, 235, 98, 121, 98, 73, 137, 73, 286, 95, 286, 95, 286, 73, 292, 73, 292, 73, 137, 73, 286, 95, 194, 95, 194, 95, 194, 95, 286, 73, 137, 73, 16, 292, 73, 137, 73, 292, 16, 109, 208, 241, 208, 109, 208, 241, 264, 109, 16, 73, 121, 185, 207, 148, 207, 185, 121, 73, 137, 73, 121, 185, 121, 73, 121, 185, 126, 225, 126, 225, 295, 225, 126, 225, 295, 225, 126, 225, 295, 225, 126, 225, 295, 75, 295, 75, 295, 75, 180, 75, 180, 285, 180, 111, 180, 111, 195, 111, 195, 111, 195, 104, 176, 238, 220, 238, 220, 293, 220, 238, 220, 293, 220, 238, 176, 238, 220, 293, 220, 238, 176, 104, 176, 104, 176, 238, 220, 238, 176, 238, 176, 104, 176, 238, 220, 238, 220, 293, 220, 238, 176, 238, 176, 104, 176, 238, 220, 238, 220, 293, 220, 238, 176, 238, 176, 238, 220, 238, 176, 238, 220, 238, 176, 238, 176, 238, 176, 104, 195, 111, 195, 111, 195, 111, 195, 111, 195, 111, 180, 285, 180, 285, 71, 72, 71, 285, 180, 285, 71, 72, 0, 72, 71, 72, 181, 193, 4, 251, 4, 193, 181, 193, 4, 251, 250, 234, 250, 234, 250, 234, 250, 251, 4, 193, 181, 72, 0, 264, 51, 264, 109, 264, 241, 208, 241, 264, 241, 264, 0, 72, 71, 72, 181, 72, 71, 72, 71, 72, 0, 233, 0, 264, 107, 140, 107, 140, 107, 140, 107, 140, 212, 140, 107, 140, 107, 264, 0, 72, 181, 193, 181, 72, 181, 193, 181, 193, 181, 193, 181, 193, 4, 193, 4, 251, 4, 251, 4, 193, 181, 193, 4, 193, 181, 193, 181, 72, 181, 72, 181, 72, 71, 285, 180, 75, 180, 111, 180, 111, 195, 104, 195, 104, 195, 111, 195, 104, 176, 238, 176, 104, 195, 104, 195, 111, 195, 104, 195, 111, 180, 111, 195, 111, 195, 111, 195, 104, 195, 104, 176, 238, 176, 104, 195, 111, 195, 104, 176, 104, 195, 104, 195, 111, 195, 111, 180, 75, 180, 285, 180, 75, 180, 285, 71, 285, 180, 111, 180, 111, 195, 111, 180, 111, 180, 75, 180, 111, 180, 285, 180, 111, 180, 111, 195, 111, 195, 104, 195, 111, 180, 111, 180, 285, 180, 285, 71, 285, 71, 72, 181, 193, 181, 193, 4, 251, 250, 234, 250, 234, 209, 290, 114, 183, 114, 290, 114, 183, 198, 179, 178, 179, 178, 179, 178, 167, 61, 279, 61, 279, 61, 279, 61, 167, 213, 52, 45, 5, 45, 49, 45, 49, 45, 5, 45, 5, 45, 5, 45, 49, 45, 49, 45, 49, 45, 49, 45, 5, 45, 52, 45, 49, 45, 49, 45, 49, 45, 52, 213, 167, 61, 167, 213, 52, 213, 167, 61, 279, 61, 167, 213, 52, 45, 49, 45, 5, 45, 5, 45, 5, 45, 5, 45, 49, 45, 49, 45, 52, 213, 167, 213, 167, 178, 179, 198, 183, 114, 290, 114, 177, 114, 290, 114, 177, 114, 183, 198, 179, 178, 167, 213, 167, 213, 167, 213, 52, 213, 167, 61, 279, 61, 279, 61, 167, 213, 167, 213, 167, 61, 279, 61, 279, 61, 279, 61, 167, 61, 167, 178, 179, 198, 183, 114, 290, 209, 74, 221, 74, 209, 74, 221, 219, 133, 124, 133, 219, 133, 219, 221, 219, 221, 74, 221, 219, 221, 74, 209, 74, 221, 74, 209, 290, 114, 183, 114, 290, 209, 234, 209, 234, 209, 234, 209, 290, 114, 290, 209, 74, 221, 74, 209, 74, 221, 219, 133, 219, 221, 219, 221, 74, 221, 74, 209, 74, 221, 219, 133, 219, 133, 219, 221, 219, 133, 219, 221, 74, 209, 74, 221, 74, 209, 74, 209, 234, 209, 74, 221, 74, 221, 74, 209, 74, 209, 290, 209, 290, 114, 177, 201, 177, 114, 290, 114, 290, 114, 177, 201, 177, 114, 177, 201, 177, 114, 177, 114, 177, 201, 281, 143, 206, 143, 206, 143, 281, 93, 289, 93, 253, 93, 10]\n",
      "[10, 93, 289, 141, 296, 70, 171, 281, 171, 70, 296, 141, 296, 70, 171, 281, 143, 281, 93, 281, 143, 281, 143, 206, 44, 206, 44, 206, 143, 281, 93, 253, 93, 281, 171, 70, 171, 70, 171, 281, 171, 281, 143, 281, 201, 177, 201, 177, 114, 183, 198, 183, 198, 183, 198, 183, 198, 183, 198, 183, 198, 179, 198, 179, 198, 183, 198, 183, 198, 183, 114, 290, 209, 290, 209, 234, 250, 251, 250, 234, 250, 234, 209, 290, 114, 177, 114, 177, 114, 183, 114, 183, 198, 183, 198, 179, 178, 179, 198, 183, 114, 290, 209, 234, 209, 234, 250, 251, 250, 251, 250, 251, 4, 251, 4, 251, 4, 251, 250, 234, 209, 290, 114, 177, 114, 177, 114, 290, 209, 234, 209, 234, 250, 251, 250, 251, 4, 193, 181, 193, 181, 72, 181, 72, 181, 193, 181, 193, 4, 251, 250, 251, 250, 251, 250, 234, 250, 251, 250, 234, 209, 290, 209, 74, 209, 74, 221, 219, 133, 219, 133, 219, 221, 74, 209, 74, 221, 74, 209, 234, 209, 290, 209, 234, 209, 234, 209, 234, 209, 74, 209, 234, 209, 234, 250, 251, 250, 234, 209, 290, 209, 290, 209, 290, 209, 234, 209, 74, 221, 219, 221, 74, 209, 74, 209, 234, 250, 251, 250, 234, 209, 74, 209, 234, 250, 251, 250, 234, 209, 74, 221, 219, 133, 219, 221, 219, 133, 124, 270, 124, 133, 219, 133, 124, 270, 124, 270, 124, 270, 124, 270, 124, 133, 219, 221, 219, 221, 219, 221, 74, 209, 234, 209, 74, 209, 290, 114, 290, 209, 74, 221, 74, 221, 74, 209, 74, 221, 74, 209, 290, 114, 290, 114, 290, 114, 177, 114, 290, 209, 74, 221, 219, 133, 219, 221, 74, 221, 219, 133, 124, 133, 219, 133, 219, 221, 74, 221, 219, 221, 219, 221, 74, 221, 74, 209, 74, 209, 290, 114, 290, 114, 290, 114, 290, 114, 183, 198, 183, 198, 179, 198, 179, 178, 179, 198, 183, 198, 179, 198, 183, 114, 290, 114, 290, 114, 290, 114, 290, 114, 177, 114, 177, 201, 281, 171, 70, 171, 281, 201, 281, 93, 253, 248, 253, 93, 289, 141, 296, 70, 296, 141, 289, 141, 289, 141, 296, 70, 296, 141, 296, 141, 289, 93, 253, 93, 281, 143, 206, 143, 281, 143, 281, 93, 10]\n",
      "[10, 248, 10]\n",
      "[10, 162, 10]\n",
      "[10, 93, 253, 93, 253, 93, 253, 248, 10]\n",
      "[10, 248, 253, 248, 253, 93, 281, 171, 281, 171, 281, 201, 281, 171, 70, 171, 70, 296, 70, 171, 70, 171, 281, 93, 10]\n",
      "[10, 82, 10]\n",
      "[10, 103, 89, 144, 38, 144, 6, 144, 91, 13, 91, 13, 166, 187, 166, 12, 156, 22, 156, 28, 156, 22, 40, 22, 40, 22, 40, 252, 173, 252, 173, 252, 174, 252, 173, 252, 40, 41, 182, 42, 182, 41, 182, 42, 78, 26, 200, 291, 283, 154, 283, 291, 200, 283, 200, 291, 200, 26, 78, 26, 78, 26, 78, 26, 78, 26, 200, 26, 78, 42, 182, 41, 291, 200, 283, 291, 41, 40, 215, 275, 215, 40, 41, 40, 252, 174, 252, 174, 252, 173, 252, 173, 252, 174, 252, 40, 41, 182, 41, 40, 22, 40, 22, 40, 252, 173, 252, 174, 252, 173, 252, 40, 252, 174, 252, 173, 252, 173, 252, 40, 215, 40, 41, 119, 41, 182, 41, 119, 237, 60, 237, 60, 170, 134, 63, 134, 170, 134, 63, 134, 170, 134, 63, 105, 68, 85, 68, 85, 68, 105, 63, 105, 63, 105, 63, 105, 63, 105, 68, 85, 68, 85, 68, 105, 68, 85, 68, 105, 68, 105, 63, 134, 170, 134, 63, 105, 68, 105, 63, 134, 63, 105, 63, 105, 68, 85, 68, 105, 68, 105, 68, 105, 68, 85, 68, 105, 68, 85, 151, 85, 151, 85, 151, 85, 68, 85, 151, 85, 68, 105, 63, 134, 63, 134, 63, 134, 63, 105, 63, 105, 63, 105, 68, 105, 63, 134, 170, 60, 237, 60, 237, 60, 170, 134, 170, 134, 63, 134, 170, 134, 170, 134, 170, 134, 170, 60, 170, 60, 170, 134, 63, 134, 170, 134, 63, 105, 68, 85, 68, 85, 68, 85, 151, 85, 68, 105, 68, 85, 151, 85, 151, 85, 68, 85, 68, 105, 68, 85, 151, 85, 151, 85, 151, 85, 68, 85, 151, 85, 68, 85, 68, 105, 68, 85, 151, 85, 151, 85, 151, 85, 151, 85, 151, 85, 151, 85, 68, 85, 68, 85, 68, 85, 68, 105, 63, 105, 63, 105, 68, 105, 68, 105, 68, 105, 63, 134, 170, 134, 170, 60, 170, 134, 63, 134, 170, 60, 237, 60, 237, 119, 237, 119, 41, 291, 41, 40, 252, 40, 41, 119, 41, 182, 42, 218, 42, 288, 246, 203, 31, 69, 31, 203, 31, 203, 246, 163, 32, 163, 246, 163, 246, 203, 31, 203, 246, 163, 246, 163, 243, 163, 23, 155, 23, 163, 246, 163, 32, 35, 288, 199, 288, 199, 288, 35, 288, 42, 182, 42, 218, 62, 202, 216, 202, 216, 19, 216, 19, 216, 19, 216, 19, 216, 19, 64, 96, 64, 96, 64, 96, 64, 96, 18, 96, 64, 96, 64, 96, 64, 19, 216, 202, 62, 218, 42, 182, 41, 291, 283, 200, 3, 69, 31, 203, 31, 203, 31, 69, 3, 69, 31, 69, 3, 69, 3, 69, 3, 69, 3, 69, 3, 69, 3, 69, 31, 69, 31, 69, 3, 69, 3, 200, 291, 200, 3, 200, 291, 41, 40, 252, 174, 252, 174, 252, 173, 252, 174, 252, 173, 252, 173, 252, 40, 215, 40, 41, 291, 283, 200, 3, 69, 31, 69, 31, 69, 3, 69, 3, 69, 3, 200, 26, 78, 26, 200, 283, 154, 224, 261, 224, 12, 166, 13, 91, 13, 91, 13, 91, 13, 166, 187, 6, 144, 6, 144, 222, 144, 122, 144, 89, 103, 10]\n",
      "[10, 211, 191, 196, 150, 196, 150, 196, 48, 150, 196, 106, 191, 211, 10]\n",
      "[10, 82, 10]\n",
      "[10, 27, 106, 132, 145, 132, 145, 132, 145, 235, 145, 132, 145, 132, 106, 27, 191, 27, 106, 272, 197, 271, 244, 271, 244, 54, 244, 34, 244, 271, 244, 190, 135, 278, 12, 278, 232, 278, 147, 83, 135, 190, 244, 271, 244, 271, 244, 190, 135, 278, 86, 254, 86, 278, 232, 156, 12, 155, 23, 163, 32, 163, 23, 155, 12, 156, 12, 166, 155, 2, 294, 2, 294, 224, 12, 166, 13, 91, 13, 166, 155, 12, 155, 1, 262, 165, 43, 160, 43, 160, 43, 165, 262, 2, 294, 227, 294, 243, 294, 224, 12, 278, 12, 166, 155, 1, 155, 2, 262, 2, 155, 1, 262, 2, 262, 165, 43, 160, 24, 160, 43, 165, 43, 160, 43, 165, 262, 2, 294, 227, 294, 243, 294, 227, 294, 227, 294, 243, 163, 246, 203, 31, 69, 31, 69, 31, 69, 31, 203, 246, 203, 246, 152, 153, 274, 210, 274, 153, 229, 153, 229, 153, 229, 240, 300, 36, 157, 36, 157, 67, 157, 36, 157, 36, 300, 214, 50, 214, 50, 102, 50, 214, 50, 102, 108, 102, 50, 102, 50, 102, 50, 214, 300, 214, 50, 214, 50, 214, 300, 36, 157, 36, 300, 240, 229, 153, 274, 153, 152, 153, 152, 246, 152, 246, 288, 199, 269, 199, 269, 77, 269, 199, 288, 199, 288, 35, 288, 35, 288, 42, 288, 246, 203, 31, 69, 31, 69, 31, 69, 31, 69, 31, 69, 3, 200, 291, 41, 40, 252, 174, 252, 40, 252, 40, 22, 156, 22, 40, 41, 291, 200, 291, 283, 200, 283, 291, 41, 119, 41, 119, 237, 60, 170, 60, 237, 119, 237, 60, 237, 119, 41, 119, 41, 40, 215, 275, 215, 275, 215, 40, 41, 40, 22, 156, 28, 83, 147, 278, 135, 83, 28, 83, 147, 83, 28, 83, 135, 278, 135, 83, 28, 156, 28, 156, 28, 156, 22, 156, 232, 278, 147, 83, 135, 190, 244, 271, 197, 271, 244, 271, 197, 271, 244, 271, 244, 190, 135, 190, 244, 271, 197, 272, 106, 132, 106, 191, 196, 48, 86, 284, 106, 132, 145, 235, 228, 235, 98, 73, 16, 292, 73, 16, 73, 137, 73, 121, 98, 73, 16, 292, 73, 137, 73, 16, 292, 16, 292, 16, 109, 100, 109, 208, 241, 264, 0, 264, 51, 0, 51, 264, 51, 0, 264, 0, 233, 175, 233, 0, 51, 0, 233, 0, 264, 109, 16, 73, 121, 98, 235, 228, 235, 98, 235, 98, 235, 98, 73, 121, 185, 126, 185, 126, 185, 207, 185, 207, 185, 121, 73, 121, 98, 121, 98, 73, 121, 73, 16, 73, 292, 16, 109, 16, 109, 100, 226, 100, 109, 208, 109, 208, 109, 100, 226, 149, 226, 100, 109, 264, 107, 140, 212, 140, 107, 264, 109, 208, 109, 16, 109, 208, 109, 100, 226, 149, 226, 149, 146, 149, 146, 149, 146, 149, 146, 149, 226, 100, 109, 16, 109, 16, 73, 98, 73, 292, 16, 292, 16, 109, 100, 226, 149, 146, 282, 217, 282, 217, 282, 146, 282, 217, 192, 82, 192, 277, 158, 277, 158, 142, 158, 277, 192, 277, 192, 81, 192, 81, 192, 81, 162, 10]\n",
      "[10, 162, 10]\n",
      "[10, 103, 10]\n",
      "[10, 103, 10]\n",
      "[10, 103, 89, 103, 89, 144, 38, 144, 122, 94, 122, 144, 89, 103, 10]\n",
      "[10, 248, 253, 248, 253, 248, 253, 248, 10]\n",
      "[10, 27, 106, 27, 191, 106, 272, 247, 272, 106, 272, 106, 132, 106, 196, 48, 86, 254, 86, 284, 278, 86, 254, 86, 254, 86, 254, 24, 254, 86, 254, 24, 254, 24, 160, 24, 254, 24, 160, 43, 165, 262, 2, 294, 243, 294, 224, 12, 278, 135, 83, 135, 278, 86, 254, 24, 160, 24, 254, 24, 254, 86, 284, 247, 284, 86, 284, 86, 254, 24, 160, 24, 160, 24, 254, 24, 160, 24, 254, 86, 278, 232, 156, 22, 40, 41, 182, 42, 78, 42, 182, 42, 182, 42, 218, 62, 202, 216, 202, 216, 19, 64, 96, 64, 19, 216, 202, 216, 202, 216, 202, 216, 202, 216, 202, 216, 19, 216, 19, 64, 96, 18, 96, 18, 96, 18, 96, 18, 96, 64, 19, 64, 19, 64, 96, 18, 96, 64, 96, 64, 19, 216, 19, 216, 19, 64, 19, 64, 19, 216, 202, 216, 19, 216, 202, 216, 19, 216, 202, 216, 202, 62, 202, 216, 202, 62, 202, 62, 202, 216, 19, 216, 19, 216, 19, 216, 202, 62, 218, 42, 78, 42, 288, 246, 203, 246, 203, 31, 69, 31, 203, 246, 288, 246, 203, 246, 288, 246, 163, 246, 203, 31, 69, 3, 200, 283, 154, 224, 12, 224, 12, 249, 47, 125, 59, 125, 47, 125, 47, 249, 47, 249, 12, 155, 1, 262, 2, 262, 1, 262, 1, 155, 1, 155, 1, 262, 1, 262, 165, 43, 160, 24, 160, 43, 160, 24, 254, 86, 254, 24, 254, 86, 284, 247, 284, 247, 284, 106, 272, 197, 271, 244, 54, 53, 54, 244, 34, 244, 190, 135, 190, 244, 34, 244, 34, 244, 34, 244, 190, 135, 278, 147, 278, 135, 190, 135, 83, 147, 83, 28, 83, 147, 278, 147, 83, 135, 83, 135, 190, 135, 190, 135, 278, 232, 156, 22, 156, 12, 278, 232, 278, 284, 278, 135, 83, 28, 83, 28, 156, 232, 156, 232, 156, 12, 224, 154, 283, 154, 283, 200, 291, 200, 3, 200, 283, 154, 283, 291, 41, 119, 41, 291, 41, 182, 42, 288, 35, 288, 35, 288, 199, 269, 199, 269, 199, 269, 199, 288, 42, 288, 199, 288, 246, 203, 246, 203, 31, 69, 3, 69, 3, 200, 3, 69, 31, 69, 31, 203, 31, 69, 31, 69, 31, 69, 3, 200, 3, 69, 3, 69, 31, 203, 31, 203, 31, 203, 246, 203, 31, 203, 246, 203, 31, 69, 31, 69, 31, 69, 31, 203, 31, 203, 246, 163, 243, 163, 23, 155, 166, 187, 6, 187, 166, 187, 166, 187, 166, 187, 166, 12, 155, 23, 155, 2, 294, 243, 163, 246, 152, 153, 274, 153, 152, 246, 163, 246, 203, 31, 203, 246, 152, 246, 288, 42, 182, 42, 78, 42, 182, 41, 291, 200, 291, 283, 154, 224, 154, 283, 154, 283, 200, 26, 200, 283, 200, 26, 200, 3, 200, 283, 200, 26, 200, 3, 200, 283, 291, 41, 119, 237, 60, 170, 60, 170, 60, 237, 60, 237, 119, 41, 291, 283, 291, 41, 291, 283, 154, 283, 291, 283, 291, 200, 291, 200, 3, 69, 31, 69, 3, 200, 26, 200, 3, 69, 31, 203, 246, 152, 153, 274, 210, 97, 210, 274, 153, 152, 153, 274, 210, 97, 210, 274, 210, 97, 210, 97, 210, 97, 172, 97, 210, 97, 172, 97, 172, 15, 90, 15, 90, 15, 172, 15, 172, 97, 172, 97, 172, 97, 210, 274, 210, 274, 210, 274, 210, 97, 172, 97, 172, 15, 90, 15, 90, 15, 172, 97, 210, 97, 210, 97, 210, 97, 210, 274, 210, 274, 153, 229, 240, 300, 214, 300, 36, 300, 240, 229, 153, 229, 153, 152, 246, 163, 32, 35, 32, 163, 243, 294, 224, 154, 224, 261, 224, 154, 283, 154, 224, 261, 224, 294, 227, 294, 243, 163, 23, 155, 166, 12, 166, 155, 23, 163, 32, 35, 32, 35, 32, 35, 288, 42, 288, 199, 269, 199, 288, 246, 288, 42, 218, 42, 182, 42, 218, 62, 218, 42, 182, 42, 288, 35, 288, 35, 288, 246, 163, 23, 155, 12, 249, 47, 249, 12, 224, 12, 156, 28, 156, 22, 156, 232, 156, 12, 166, 187, 166, 13, 166, 13, 166, 12, 155, 2, 262, 1, 262, 165, 43, 165, 262, 165, 43, 160, 24, 160, 43, 160, 43, 160, 24, 254, 24, 254, 86, 278, 147, 278, 232, 278, 86, 278, 284, 106, 284, 278, 12, 155, 166, 187, 6, 144, 89, 144, 89, 144, 222, 144, 122, 94, 9, 94, 159, 94, 122, 94, 159, 265, 159, 94, 9, 127, 9, 127, 9, 127, 9, 94, 9, 94, 159, 265, 159, 94, 9, 94, 159, 265, 302, 30, 302, 30, 8, 231, 186, 56, 186, 231, 186, 231, 186, 231, 186, 231, 8, 231, 8, 231, 8, 30, 302, 30, 302, 30, 8, 30, 8, 30, 8, 30, 8, 30, 302, 265, 159, 94, 223, 94, 223, 94, 159, 265, 159, 94, 122, 94, 223, 94, 122, 94, 9, 94, 122, 94, 159, 94, 159, 94, 159, 94, 223, 259, 25, 259, 25, 273, 25, 259, 223, 94, 159, 94, 159, 94, 9, 94, 223, 94, 159, 94, 159, 265, 159, 94, 223, 259, 223, 94, 9, 127, 38, 144, 91, 144, 222, 125, 47, 249, 47, 249, 12, 249, 47, 249, 47, 125, 59, 150, 59, 125, 258, 150, 59, 125, 222, 144, 91, 13, 91, 13, 91, 144, 38, 144, 89, 103, 89, 103, 10]\n",
      "[10, 82, 10]\n",
      "[10, 211, 10]\n",
      "[10, 93, 289, 93, 253, 93, 10]\n",
      "[10, 82, 10]\n",
      "[10, 211, 191, 276, 191, 196, 150, 196, 106, 196, 191, 258, 150, 258, 101, 258, 125, 258, 125, 258, 150, 48, 150, 48, 86, 278, 86, 48, 86, 278, 135, 190, 135, 278, 284, 278, 12, 155, 23, 155, 1, 262, 165, 262, 165, 43, 165, 262, 2, 294, 2, 262, 2, 262, 1, 262, 165, 43, 160, 24, 160, 43, 160, 24, 254, 24, 160, 24, 160, 24, 254, 24, 254, 86, 284, 247, 284, 278, 147, 278, 86, 48, 196, 48, 196, 191, 27, 10]\n",
      "[10, 103, 89, 103, 89, 103, 89, 103, 10]\n",
      "[10, 162, 10]\n",
      "[10, 248, 10]\n",
      "[10, 248, 253, 93, 10]\n",
      "[10, 248, 10]\n",
      "[10, 27, 161, 27, 106, 272, 197, 271, 244, 190, 244, 190, 135, 278, 12, 278, 147, 278, 232, 156, 12, 166, 155, 23, 163, 246, 288, 35, 288, 42, 288, 35, 288, 199, 288, 42, 218, 42, 182, 41, 119, 237, 119, 237, 60, 237, 60, 237, 119, 41, 182, 42, 288, 35, 32, 163, 243, 294, 224, 294, 2, 262, 165, 43, 165, 262, 1, 155, 1, 155, 2, 155, 166, 13, 91, 13, 166, 155, 23, 163, 243, 294, 2, 155, 1, 155, 23, 163, 243, 294, 243, 163, 246, 163, 32, 163, 246, 288, 246, 288, 199, 269, 199, 269, 199, 269, 77, 14, 268, 14, 268, 20, 268, 20, 268, 20, 268, 20, 268, 20, 66, 20, 268, 14, 268, 14, 77, 14, 77, 14, 268, 14, 77, 269, 199, 288, 199, 288, 199, 288, 42, 182, 42, 182, 41, 119, 237, 60, 237, 60, 170, 60, 170, 60, 170, 60, 170, 60, 170, 60, 237, 60, 170, 134, 170, 134, 170, 134, 170, 60, 170, 134, 170, 60, 170, 134, 63, 105, 68, 85, 151, 85, 151, 85, 151, 85, 151, 85, 68, 105, 68, 85, 68, 105, 63, 105, 68, 105, 68, 85, 68, 105, 63, 134, 170, 60, 170, 134, 170, 60, 237, 60, 237, 119, 237, 119, 237, 119, 41, 119, 237, 60, 170, 134, 63, 105, 68, 85, 68, 85, 151, 85, 151, 85, 151, 85, 68, 85, 68, 85, 151, 85, 151, 85, 151, 85, 68, 85, 68, 105, 63, 134, 63, 105, 63, 105, 68, 85, 68, 105, 68, 105, 63, 134, 170, 134, 63, 105, 63, 105, 68, 105, 63, 134, 170, 134, 63, 105, 63, 105, 63, 134, 170, 134, 170, 60, 170, 60, 170, 134, 170, 60, 170, 60, 170, 60, 237, 60, 237, 60, 237, 60, 237, 60, 170, 134, 63, 134, 170, 134, 63, 105, 68, 85, 68, 85, 68, 85, 151, 85, 68, 105, 63, 134, 63, 105, 63, 105, 68, 85, 151, 85, 151, 85, 68, 85, 151, 85, 151, 85, 151, 85, 151, 85, 151, 85, 151, 85, 151, 85, 68, 105, 63, 105, 63, 134, 63, 134, 63, 134, 170, 134, 63, 105, 68, 85, 151, 85, 68, 85, 68, 105, 63, 134, 63, 105, 63, 105, 68, 85, 68, 105, 63, 105, 68, 85, 68, 85, 68, 85, 151, 85, 151, 85, 151, 85, 68, 85, 151, 85, 68, 105, 68, 105, 68, 105, 63, 105, 68, 105, 68, 85, 151, 85, 151, 85, 68, 105, 68, 105, 68, 105, 63, 134, 170, 134, 170, 60, 237, 119, 237, 60, 170, 134, 170, 60, 170, 60, 237, 119, 237, 119, 237, 60, 237, 119, 237, 119, 237, 119, 41, 119, 41, 182, 41, 182, 41, 40, 215, 40, 215, 275, 224, 261, 224, 12, 249, 47, 249, 47, 125, 258, 191, 106, 132, 106, 27, 161, 27, 106, 196, 48, 150, 59, 150, 258, 191, 211, 10]\n",
      "[10, 103, 10]\n",
      "[10, 211, 10]\n",
      "[10, 162, 81, 192, 81, 162, 10]\n",
      "[10, 93, 281, 171, 70, 171, 70, 296, 70, 171, 70, 171, 70, 171, 281, 201, 281, 143, 281, 93, 289, 93, 281, 143, 281, 93, 281, 143, 206, 143, 281, 171, 70, 171, 281, 171, 70, 171, 281, 171, 70, 296, 141, 289, 141, 296, 70, 296, 70, 171, 281, 93, 281, 171, 281, 201, 177, 201, 177, 114, 290, 209, 74, 209, 290, 209, 74, 209, 290, 209, 74, 209, 234, 250, 234, 250, 251, 4, 251, 4, 251, 250, 251, 250, 234, 209, 290, 114, 290, 209, 290, 114, 183, 114, 183, 114, 177, 114, 177, 114, 183, 114, 290, 114, 290, 114, 177, 201, 177, 114, 177, 201, 281, 93, 253, 248, 10]\n",
      "[10, 82, 10]\n",
      "[10, 162, 81, 192, 81, 192, 81, 162, 10]\n",
      "[10, 162, 81, 162, 81, 162, 81, 162, 10]\n",
      "[10, 93, 281, 93, 281, 171, 70, 296, 70, 296, 70, 296, 141, 289, 141, 296, 70, 296, 70, 171, 70, 171, 70, 296, 70, 296, 70, 296, 141, 296, 70, 171, 70, 296, 141, 289, 141, 289, 141, 289, 141, 289, 141, 296, 141, 296, 141, 289, 141, 289, 93, 281, 143, 281, 171, 70, 296, 141, 289, 93, 253, 248, 10]\n",
      "[10, 27, 10]\n",
      "[10, 82, 192, 217, 282, 217, 282, 217, 192, 82, 10]\n",
      "[10, 82, 192, 17, 192, 81, 162, 81, 192, 81, 192, 217, 282, 146, 282, 146, 282, 146, 149, 226, 149, 146, 282, 217, 282, 217, 282, 217, 192, 81, 192, 82, 192, 17, 192, 277, 158, 277, 192, 17, 185, 126, 185, 121, 98, 73, 121, 98, 235, 145, 132, 106, 272, 197, 272, 228, 272, 247, 284, 86, 284, 278, 135, 278, 232, 278, 12, 249, 47, 125, 47, 125, 59, 125, 59, 125, 258, 101, 258, 101, 258, 125, 47, 125, 59, 150, 258, 150, 258, 150, 59, 150, 258, 101, 276, 88, 276, 88, 144, 6, 187, 6, 144, 222, 144, 122, 144, 122, 144, 88, 39, 169, 39, 88, 169, 88, 276, 191, 106, 284, 278, 232, 278, 284, 278, 147, 83, 135, 190, 135, 83, 147, 278, 12, 278, 147, 83, 135, 278, 12, 156, 12, 155, 2, 262, 2, 155, 23, 163, 246, 163, 32, 35, 288, 199, 269, 199, 269, 199, 269, 77, 269, 199, 269, 77, 269, 199, 288, 42, 182, 41, 182, 42, 218, 42, 78, 26, 78, 42, 182, 41, 291, 283, 291, 283, 154, 224, 294, 227, 294, 227, 294, 227, 294, 227, 294, 224, 294, 243, 294, 227, 294, 224, 294, 224, 154, 283, 291, 200, 26, 78, 42, 218, 42, 182, 41, 119, 41, 182, 42, 78, 26, 78, 42, 288, 199, 269, 77, 269, 199, 288, 246, 163, 246, 203, 31, 69, 3, 69, 3, 69, 3, 200, 283, 200, 283, 200, 291, 41, 40, 41, 119, 237, 119, 41, 291, 41, 291, 41, 291, 283, 291, 283, 291, 41, 40, 252, 173, 252, 173, 252, 174, 252, 40, 41, 40, 41, 182, 42, 288, 199, 269, 77, 14, 268, 20, 268, 14, 268, 14, 268, 20, 66, 20, 66, 20, 66, 20, 66, 20, 268, 14, 268, 20, 268, 20, 268, 14, 268, 20, 268, 20, 66, 65, 66, 20, 268, 20, 268, 14, 268, 20, 268, 14, 77, 269, 199, 288, 199, 269, 77, 14, 268, 20, 268, 14, 77, 14, 77, 269, 199, 288, 246, 163, 23, 155, 1, 262, 2, 155, 1, 262, 165, 262, 165, 43, 165, 43, 160, 43, 165, 262, 165, 43, 160, 43, 160, 24, 254, 24, 254, 24, 160, 43, 165, 43, 165, 262, 165, 43, 160, 43, 160, 24, 160, 24, 160, 24, 160, 24, 254, 86, 254, 86, 278, 12, 249, 12, 155, 12, 155, 23, 163, 243, 294, 243, 163, 246, 203, 31, 203, 31, 69, 31, 69, 3, 69, 3, 69, 3, 200, 3, 69, 3, 69, 31, 69, 3, 69, 3, 69, 31, 69, 3, 69, 3, 69, 3, 69, 31, 203, 31, 203, 246, 163, 32, 163, 23, 155, 166, 13, 91, 144, 222, 125, 59, 125, 222, 144, 89, 103, 10]\n",
      "[10, 103, 10]\n",
      "[10, 93, 253, 248, 10]\n",
      "[10, 162, 10]\n",
      "[10, 248, 253, 248, 10]\n",
      "[10, 27, 106, 272, 106, 132, 145, 132, 145, 132, 145, 132, 145, 235, 145, 235, 98, 121, 185, 17, 192, 82, 192, 217, 282, 217, 282, 217, 282, 217, 192, 17, 192, 17, 192, 217, 282, 217, 282, 217, 282, 217, 192, 217, 192, 82, 192, 17, 192, 17, 192, 82, 10]\n",
      "[10, 248, 10]\n",
      "[10, 248, 10]\n",
      "[10, 103, 10]\n"
     ]
    }
   ],
   "source": [
    "routes = return_route(10, 100, adj_mat)\n",
    "\n",
    "for route in routes:\n",
    "    print (route)"
   ]
  },
  {
   "cell_type": "code",
   "execution_count": 40,
   "metadata": {},
   "outputs": [
    {
     "data": {
      "text/plain": [
       "<matplotlib.collections.PathCollection at 0x1b9950c3860>"
      ]
     },
     "execution_count": 40,
     "metadata": {},
     "output_type": "execute_result"
    },
    {
     "data": {
      "image/png": "[encoded data removed]",
      "text/plain": [
       "<matplotlib.figure.Figure at 0x1b994eed128>"
      ]
     },
     "metadata": {},
     "output_type": "display_data"
    }
   ],
   "source": [
    "for route in routes:\n",
    "    \n",
    "    ys = [stations.loc[elem+1]['latitude'] for elem in route]\n",
    "    xs = [stations.loc[elem+1]['longitude'] for elem in route]\n",
    "\n",
    "    plt.plot(xs, ys, alpha=0.2, color='b', zorder=0)\n",
    "    \n",
    "#mlp.patches.Circle((stations.loc[10+1]['longitude'], stations.loc[10+1]['latitude']), radius = .5)\n",
    "\n",
    "plt.scatter(stations.loc[10+1]['longitude'], stations.loc[10+1]['latitude'], color='k', zorder=10)\n",
    "\n",
    "#print(stations.loc[10+1]['longitude'], stations.loc[10+1]['latitude'])"
   ]
  },
  {
   "cell_type": "code",
   "execution_count": 73,
   "metadata": {},
   "outputs": [
    {
     "data": {
      "text/plain": [
       "[(1, 3)]"
      ]
     },
     "execution_count": 73,
     "metadata": {},
     "output_type": "execute_result"
    }
   ],
   "source": [
    "a = [(2, 3), (1, 3), (1, 2), (3, 3), (3, 2), (2, 1)]\n",
    "b = [(2, 2), (1, 3), (1, 2), (3, 3)]\n",
    "\n",
    "list(set(a)-set([(x,y) for y, x in a]))"
   ]
  },
  {
   "cell_type": "code",
   "execution_count": 78,
   "metadata": {},
   "outputs": [
    {
     "data": {
      "text/plain": [
       "(1, 3)"
      ]
     },
     "execution_count": 78,
     "metadata": {},
     "output_type": "execute_result"
    }
   ],
   "source": [
    "to_change = np.sort([3,1])\n",
    "\n",
    "tuple(to_change)"
   ]
  },
  {
   "cell_type": "code",
   "execution_count": 12,
   "metadata": {},
   "outputs": [
    {
     "data": {
      "text/plain": [
       "(0, 2, 4)"
      ]
     },
     "execution_count": 12,
     "metadata": {},
     "output_type": "execute_result"
    }
   ],
   "source": [
    "a = np.zeros((2, 2))\n",
    "b = np.zeros((2, 2))\n",
    "c = np.zeros((2, 2))\n",
    "\n",
    "b[0][1] = 1\n",
    "b[1][1] = 1\n",
    "\n",
    "c[0][0] = 1\n",
    "c[0][1] = 1\n",
    "c[1][0] = 1\n",
    "c[1][1] = 1\n",
    "\n",
    "a, b, c\n",
    "\n",
    "np.count_nonzero(a), np.count_nonzero(b), np.count_nonzero(c)"
   ]
  },
  {
   "cell_type": "code",
   "execution_count": 49,
   "metadata": {},
   "outputs": [
    {
     "data": {
      "text/plain": [
       "(array([0, 1, 1, 1, 2, 3], dtype=int64),\n",
       " array([1, 0, 2, 3, 1, 1], dtype=int64))"
      ]
     },
     "execution_count": 49,
     "metadata": {},
     "output_type": "execute_result"
    }
   ],
   "source": [
    "d = np.zeros((4, 4))\n",
    "\n",
    "d[1][0] = 1\n",
    "d[1][2] = 1\n",
    "d[1][3] = 1\n",
    "\n",
    "d[0][1] = 1\n",
    "d[2][1] = 1\n",
    "d[3][1] = 1\n",
    "\n",
    "np.nonzero(d)"
   ]
  },
  {
   "cell_type": "code",
   "execution_count": 76,
   "metadata": {},
   "outputs": [],
   "source": []
  },
  {
   "cell_type": "code",
   "execution_count": 77,
   "metadata": {},
   "outputs": [
    {
     "name": "stdout",
     "output_type": "stream",
     "text": [
      "0.0 0.0 0.0 0.0 0.0 0.0 0.0 0.0 0.0 0.0 0.0 0.0 0.0 0.0 0.0 0.0 0.0 0.0 0.0 0.0 0.0 0.0 0.0 0.0 0.0 0.0 0.0 0.0 0.0 0.0 0.0 0.0 0.0 0.0 0.0 0.0 0.0 0.0 0.0 0.0 0.0 0.0 0.0 0.0 0.0 0.0 0.0 0.0 0.0 "
     ]
    },
    {
     "data": {
      "text/plain": [
       "(array([[ 0.,  1.,  0.,  0.,  0.,  0.,  0.],\n",
       "        [ 1.,  0.,  1.,  0.,  1.,  0.,  0.],\n",
       "        [ 0.,  1.,  0.,  0.,  0.,  1.,  0.],\n",
       "        [ 0.,  0.,  0.,  0.,  1.,  0.,  0.],\n",
       "        [ 0.,  1.,  0.,  1.,  0.,  1.,  0.],\n",
       "        [ 0.,  0.,  1.,  0.,  1.,  0.,  1.],\n",
       "        [ 0.,  0.,  0.,  0.,  0.,  1.,  0.]]),\n",
       " array([[ 0.,  1.,  2.,  3.,  2.,  3.,  4.],\n",
       "        [ 1.,  0.,  1.,  2.,  1.,  2.,  3.],\n",
       "        [ 2.,  1.,  0.,  3.,  2.,  1.,  2.],\n",
       "        [ 3.,  2.,  3.,  0.,  1.,  2.,  3.],\n",
       "        [ 2.,  1.,  2.,  1.,  0.,  1.,  2.],\n",
       "        [ 3.,  2.,  1.,  2.,  1.,  0.,  1.],\n",
       "        [ 4.,  3.,  2.,  3.,  2.,  1.,  0.]]))"
      ]
     },
     "execution_count": 77,
     "metadata": {},
     "output_type": "execute_result"
    }
   ],
   "source": [
    "test = np.zeros((7, 7))\n",
    "\n",
    "for i, j in [(0, 1), (2, 1), (2, 5), (4, 5), (1, 4), (3, 4), (6, 5), (2, 5)]:\n",
    "    test[i][j], test[j][i] = 1, 1\n",
    "    \n",
    "test, distance_mat(test)"
   ]
  },
  {
   "cell_type": "code",
   "execution_count": 75,
   "metadata": {},
   "outputs": [
    {
     "name": "stdout",
     "output_type": "stream",
     "text": [
      "[[ 0.  1.  2.  2.  3.  3.  4.]\n",
      " [ 0.  1.  1.  1.  2.  2.  3.]\n",
      " [ 0.  1.  1.  2.  2.  2.  3.]\n",
      " [ 0.  1.  2.  2.  3.  3.  3.]\n",
      " [ 0.  1.  1.  1.  2.  2.  2.]\n",
      " [ 0.  1.  1.  1.  2.  2.  3.]\n",
      " [ 0.  1.  2.  2.  3.  3.  4.]]\n"
     ]
    }
   ],
   "source": []
  },
  {
   "cell_type": "code",
   "execution_count": null,
   "metadata": {
    "collapsed": true
   },
   "outputs": [],
   "source": []
  }
 ],
 "metadata": {
  "kernelspec": {
   "display_name": "Python 3",
   "language": "python",
   "name": "python3"
  },
  "language_info": {
   "codemirror_mode": {
    "name": "ipython",
    "version": 3
   },
   "file_extension": ".py",
   "mimetype": "text/x-python",
   "name": "python",
   "nbconvert_exporter": "python",
   "pygments_lexer": "ipython3",
   "version": "3.6.1"
  }
 },
 "nbformat": 4,
 "nbformat_minor": 2
}
