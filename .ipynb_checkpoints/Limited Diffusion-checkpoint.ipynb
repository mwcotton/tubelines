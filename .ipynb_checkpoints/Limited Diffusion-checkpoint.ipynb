{
 "cells": [
  {
   "cell_type": "code",
   "execution_count": 13,
   "metadata": {
    "collapsed": true
   },
   "outputs": [],
   "source": [
    "import numpy as np\n",
    "import matplotlib as mpl\n",
    "import matplotlib.pyplot as plt\n",
    "\n",
    "%matplotlib inline"
   ]
  },
  {
   "cell_type": "code",
   "execution_count": 29,
   "metadata": {
    "collapsed": true
   },
   "outputs": [],
   "source": [
    "length = 201\n",
    "diff_rate = 1\n",
    "def get step:\n",
    "    return np.random.rand(1)*2-1\n",
    "particles = 1000\n",
    "time = 2000\n",
    "\n",
    "bar = np.zeros(length)\n",
    "\n",
    "particles_paths = []\n",
    "\n",
    "for _ in range(particles):\n",
    "    track = [(length-1)/2]\n",
    "    for _ in range(time):\n",
    "        if track[-1] == 0:\n",
    "            track.append(1)\n",
    "        elif track[-1] == length-1:\n",
    "            track.append(length-2)\n",
    "        else:\n",
    "            track.append(track[-1] + np.random.choice(diff_steps))\n",
    "    particles_paths.append(track)"
   ]
  },
  {
   "cell_type": "code",
   "execution_count": 30,
   "metadata": {},
   "outputs": [
    {
     "data": {
      "text/plain": [
       "(0, 40)"
      ]
     },
     "execution_count": 30,
     "metadata": {},
     "output_type": "execute_result"
    },
    {
     "data": {
      "image/png": "[encoded data removed]",
      "text/plain": [
       "<matplotlib.figure.Figure at 0x22a907f85c0>"
      ]
     },
     "metadata": {},
     "output_type": "display_data"
    }
   ],
   "source": [
    "time_pos = {}\n",
    "useful = []\n",
    "for t in range(time):\n",
    "    time_pos[t] = [route[t] for route in particles_paths]\n",
    "    useful.append([time_pos[t].count(i) for i in range(length)])\n",
    "\n",
    "\n",
    "for t in [0, 10, 20, 40, 80]:\n",
    "    plt.plot(range(length), useful[t])\n",
    "    \n",
    "plt.ylim(0, 40)"
   ]
  },
  {
   "cell_type": "code",
   "execution_count": 44,
   "metadata": {},
   "outputs": [
    {
     "data": {
      "text/plain": [
       "array([-0.5471892])"
      ]
     },
     "execution_count": 44,
     "metadata": {},
     "output_type": "execute_result"
    }
   ],
   "source": [
    "np.random.rand(1)*2-1"
   ]
  },
  {
   "cell_type": "code",
   "execution_count": null,
   "metadata": {
    "collapsed": true
   },
   "outputs": [],
   "source": []
  },
  {
   "cell_type": "code",
   "execution_count": null,
   "metadata": {
    "collapsed": true
   },
   "outputs": [],
   "source": []
  },
  {
   "cell_type": "code",
   "execution_count": null,
   "metadata": {
    "collapsed": true
   },
   "outputs": [],
   "source": []
  }
 ],
 "metadata": {
  "kernelspec": {
   "display_name": "Python 3",
   "language": "python",
   "name": "python3"
  },
  "language_info": {
   "codemirror_mode": {
    "name": "ipython",
    "version": 3
   },
   "file_extension": ".py",
   "mimetype": "text/x-python",
   "name": "python",
   "nbconvert_exporter": "python",
   "pygments_lexer": "ipython3",
   "version": "3.6.1"
  }
 },
 "nbformat": 4,
 "nbformat_minor": 2
}
